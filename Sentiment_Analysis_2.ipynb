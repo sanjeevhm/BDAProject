{
  "cells": [
    {
      "cell_type": "code",
      "execution_count": null,
      "metadata": {
        "colab": {
          "base_uri": "https://localhost:8080/"
        },
        "id": "ae-JtB_n7aL-",
        "outputId": "0fe01322-e84f-4def-e0bd-361ae5edc736"
      },
      "outputs": [
        {
          "output_type": "stream",
          "name": "stdout",
          "text": [
            "Collecting en_core_web_md==2.2.5\n",
            "  Downloading https://github.com/explosion/spacy-models/releases/download/en_core_web_md-2.2.5/en_core_web_md-2.2.5.tar.gz (96.4 MB)\n",
            "\u001b[K     |████████████████████████████████| 96.4 MB 1.5 MB/s \n",
            "\u001b[?25hRequirement already satisfied: spacy>=2.2.2 in /usr/local/lib/python3.7/dist-packages (from en_core_web_md==2.2.5) (2.2.4)\n",
            "Requirement already satisfied: catalogue<1.1.0,>=0.0.7 in /usr/local/lib/python3.7/dist-packages (from spacy>=2.2.2->en_core_web_md==2.2.5) (1.0.0)\n",
            "Requirement already satisfied: tqdm<5.0.0,>=4.38.0 in /usr/local/lib/python3.7/dist-packages (from spacy>=2.2.2->en_core_web_md==2.2.5) (4.64.0)\n",
            "Requirement already satisfied: plac<1.2.0,>=0.9.6 in /usr/local/lib/python3.7/dist-packages (from spacy>=2.2.2->en_core_web_md==2.2.5) (1.1.3)\n",
            "Requirement already satisfied: setuptools in /usr/local/lib/python3.7/dist-packages (from spacy>=2.2.2->en_core_web_md==2.2.5) (57.4.0)\n",
            "Requirement already satisfied: numpy>=1.15.0 in /usr/local/lib/python3.7/dist-packages (from spacy>=2.2.2->en_core_web_md==2.2.5) (1.21.6)\n",
            "Requirement already satisfied: cymem<2.1.0,>=2.0.2 in /usr/local/lib/python3.7/dist-packages (from spacy>=2.2.2->en_core_web_md==2.2.5) (2.0.6)\n",
            "Requirement already satisfied: requests<3.0.0,>=2.13.0 in /usr/local/lib/python3.7/dist-packages (from spacy>=2.2.2->en_core_web_md==2.2.5) (2.23.0)\n",
            "Requirement already satisfied: blis<0.5.0,>=0.4.0 in /usr/local/lib/python3.7/dist-packages (from spacy>=2.2.2->en_core_web_md==2.2.5) (0.4.1)\n",
            "Requirement already satisfied: thinc==7.4.0 in /usr/local/lib/python3.7/dist-packages (from spacy>=2.2.2->en_core_web_md==2.2.5) (7.4.0)\n",
            "Requirement already satisfied: murmurhash<1.1.0,>=0.28.0 in /usr/local/lib/python3.7/dist-packages (from spacy>=2.2.2->en_core_web_md==2.2.5) (1.0.7)\n",
            "Requirement already satisfied: srsly<1.1.0,>=1.0.2 in /usr/local/lib/python3.7/dist-packages (from spacy>=2.2.2->en_core_web_md==2.2.5) (1.0.5)\n",
            "Requirement already satisfied: wasabi<1.1.0,>=0.4.0 in /usr/local/lib/python3.7/dist-packages (from spacy>=2.2.2->en_core_web_md==2.2.5) (0.9.1)\n",
            "Requirement already satisfied: preshed<3.1.0,>=3.0.2 in /usr/local/lib/python3.7/dist-packages (from spacy>=2.2.2->en_core_web_md==2.2.5) (3.0.6)\n",
            "Requirement already satisfied: importlib-metadata>=0.20 in /usr/local/lib/python3.7/dist-packages (from catalogue<1.1.0,>=0.0.7->spacy>=2.2.2->en_core_web_md==2.2.5) (4.11.3)\n",
            "Requirement already satisfied: zipp>=0.5 in /usr/local/lib/python3.7/dist-packages (from importlib-metadata>=0.20->catalogue<1.1.0,>=0.0.7->spacy>=2.2.2->en_core_web_md==2.2.5) (3.8.0)\n",
            "Requirement already satisfied: typing-extensions>=3.6.4 in /usr/local/lib/python3.7/dist-packages (from importlib-metadata>=0.20->catalogue<1.1.0,>=0.0.7->spacy>=2.2.2->en_core_web_md==2.2.5) (4.2.0)\n",
            "Requirement already satisfied: chardet<4,>=3.0.2 in /usr/local/lib/python3.7/dist-packages (from requests<3.0.0,>=2.13.0->spacy>=2.2.2->en_core_web_md==2.2.5) (3.0.4)\n",
            "Requirement already satisfied: urllib3!=1.25.0,!=1.25.1,<1.26,>=1.21.1 in /usr/local/lib/python3.7/dist-packages (from requests<3.0.0,>=2.13.0->spacy>=2.2.2->en_core_web_md==2.2.5) (1.24.3)\n",
            "Requirement already satisfied: certifi>=2017.4.17 in /usr/local/lib/python3.7/dist-packages (from requests<3.0.0,>=2.13.0->spacy>=2.2.2->en_core_web_md==2.2.5) (2021.10.8)\n",
            "Requirement already satisfied: idna<3,>=2.5 in /usr/local/lib/python3.7/dist-packages (from requests<3.0.0,>=2.13.0->spacy>=2.2.2->en_core_web_md==2.2.5) (2.10)\n",
            "Building wheels for collected packages: en-core-web-md\n",
            "  Building wheel for en-core-web-md (setup.py) ... \u001b[?25l\u001b[?25hdone\n",
            "  Created wheel for en-core-web-md: filename=en_core_web_md-2.2.5-py3-none-any.whl size=98051301 sha256=1816526806afb021bf484023ed6139f283338e7e4f78d5dbbdb0e68c8f99ca14\n",
            "  Stored in directory: /tmp/pip-ephem-wheel-cache-qsxwzpns/wheels/69/c5/b8/4f1c029d89238734311b3269762ab2ee325a42da2ce8edb997\n",
            "Successfully built en-core-web-md\n",
            "Installing collected packages: en-core-web-md\n",
            "Successfully installed en-core-web-md-2.2.5\n",
            "\u001b[38;5;2m✔ Download and installation successful\u001b[0m\n",
            "You can now load the model via spacy.load('en_core_web_md')\n"
          ]
        }
      ],
      "source": [
        "!python -m spacy download en_core_web_md "
      ]
    },
    {
      "cell_type": "code",
      "execution_count": null,
      "metadata": {
        "colab": {
          "base_uri": "https://localhost:8080/"
        },
        "id": "eLs9vPFY_tWg",
        "outputId": "d416301c-c189-4156-d0b0-ec5cf87d46ea"
      },
      "outputs": [
        {
          "output_type": "stream",
          "name": "stderr",
          "text": [
            "/usr/local/lib/python3.7/dist-packages/ipykernel_launcher.py:7: FutureWarning: Passing a negative integer is deprecated in version 1.0 and will not be supported in future version. Instead, use None to not limit the column width.\n",
            "  import sys\n"
          ]
        }
      ],
      "source": [
        "import pandas as pd\n",
        "import numpy as np\n",
        "from pprint import pprint\n",
        "import warnings\n",
        "from textblob import TextBlob\n",
        "warnings.filterwarnings(\"ignore\",category=DeprecationWarning)\n",
        "pd.set_option('display.max_colwidth', -1)  # to view entire text in any column"
      ]
    },
    {
      "cell_type": "code",
      "source": [
        "!pip install pyspark\n",
        "from pyspark import SparkContext, SparkConf\n",
        "from pyspark.sql import SparkSession\n",
        "\n",
        "from pyspark.sql.functions import col, count, countDistinct\n",
        "from pyspark.sql import functions as F\n",
        "spark = SparkSession \\\n",
        "    .builder \\\n",
        "    .appName(\"Review-Dataframe\") \\\n",
        "    .master(\"local[*]\")\\\n",
        "    .getOrCreate()"
      ],
      "metadata": {
        "id": "lMM71o9hdVnG"
      },
      "execution_count": null,
      "outputs": []
    },
    {
      "cell_type": "code",
      "source": [
        "# df =pd.read_csv('https://raw.githubusercontent.com/sanjeevhm/BDAProject/binary_classification/Headphone_df_processed_nlp.csv')\n",
        "spark_df =  spark.read.load('Headphone_df_processed_nlp.csv',\n",
        "            format=\"csv\", sep=\",\", header=True,\n",
        "            inferSchema=\"true\")"
      ],
      "metadata": {
        "id": "ykohOqo2diaF"
      },
      "execution_count": null,
      "outputs": []
    },
    {
      "cell_type": "code",
      "source": [
        "df = spark_df.toPandas()"
      ],
      "metadata": {
        "id": "NVq2QohXdjmg"
      },
      "execution_count": null,
      "outputs": []
    },
    {
      "cell_type": "code",
      "execution_count": null,
      "metadata": {
        "id": "Ms_jjg07FsHO"
      },
      "outputs": [],
      "source": [
        "headphone_df=df"
      ]
    },
    {
      "cell_type": "code",
      "execution_count": null,
      "metadata": {
        "id": "jvB7ivJ1I29N"
      },
      "outputs": [],
      "source": [
        "headphone_df.head()"
      ]
    },
    {
      "cell_type": "code",
      "execution_count": null,
      "metadata": {
        "id": "0KFqkQ2bbmuT"
      },
      "outputs": [],
      "source": [
        "import spacy\n",
        "sp = spacy.load(\"en_core_web_sm\")"
      ]
    },
    {
      "cell_type": "code",
      "execution_count": null,
      "metadata": {
        "id": "NBh25OsYnkJD"
      },
      "outputs": [],
      "source": [
        "def feature_aspect_modeling(review, features):\n",
        "  aspects_new = [] # tried NLTK, but the parts of speech tagging is similar to SpaCy\n",
        "  review = str(review)\n",
        "  doc = sp(review)\n",
        "  descriptive_item = ''\n",
        "  targets = []\n",
        "  description = []\n",
        "  #sentiment_new = []\n",
        "  for token in doc:\n",
        "    if token.text in features:\n",
        "      targets.append(token.text)\n",
        "    if token.pos_ == 'ADJ':\n",
        "      added_terms = ''\n",
        "      for mini_token in token.children:\n",
        "        if mini_token.pos_ != 'ADV':\n",
        "          continue\n",
        "        added_terms += mini_token.text + ' '\n",
        "      description.append(added_terms + token.text)\n",
        "  for target in range(len(targets)):\n",
        "    if(target <= len(description) - 1):\n",
        "        description.append(description[target])\n",
        "        aspects_new.append({ 'aspect': targets[target],\n",
        "         'description': description[target], 'sentiment': TextBlob(description[target]).sentiment})\n",
        "  return aspects_new"
      ]
    },
    {
      "cell_type": "code",
      "execution_count": null,
      "metadata": {
        "id": "Vi_APdQXXnJJ"
      },
      "outputs": [],
      "source": [
        "feature_list = [\"sound\", \"color\", \"cost\",'condition','love','price','money','audio','quality','amount','inexpensive','amplifier','size','material','noise','package','shipping','jack','beat','control','cord','wire','mic','earbud','music']"
      ]
    },
    {
      "cell_type": "code",
      "execution_count": null,
      "metadata": {
        "id": "RPk09oJUEPfS"
      },
      "outputs": [],
      "source": [
        "headphone_df['aspect_analysis'] = headphone_df['review_lemmatized'].apply(feature_aspect_modeling, features = feature_list)"
      ]
    },
    {
      "cell_type": "code",
      "execution_count": null,
      "metadata": {
        "id": "K5dtp6Cb2eeM"
      },
      "outputs": [],
      "source": [
        "headphone_df"
      ]
    },
    {
      "cell_type": "code",
      "execution_count": null,
      "metadata": {
        "id": "73IN0PUFmVIx"
      },
      "outputs": [],
      "source": [
        "def polarityFunc(aspectAnalysis,feature):\n",
        "  for j in aspectAnalysis:\n",
        "    if j['aspect'] == feature:\n",
        "      return round(float(j['sentiment'][0]),2)\n",
        "  "
      ]
    },
    {
      "cell_type": "code",
      "execution_count": null,
      "metadata": {
        "id": "XRrhTaP4lemY"
      },
      "outputs": [],
      "source": [
        "for i in feature_list:\n",
        "  headphone_df[i] = headphone_df['aspect_analysis'].apply(polarityFunc,feature = i)"
      ]
    },
    {
      "cell_type": "code",
      "execution_count": null,
      "metadata": {
        "id": "1ROoefl1KOiG",
        "colab": {
          "base_uri": "https://localhost:8080/",
          "height": 1000
        },
        "outputId": "6a2dc685-522d-4eee-d761-77979428367d"
      },
      "outputs": [
        {
          "output_type": "execute_result",
          "data": {
            "text/plain": [
              "   Unnamed: 0  product_id                               product_tite  \\\n",
              "0  0           B003EM6AQE  Panasonic ErgoFit In-Ear Earbud Headphone   \n",
              "1  1           B003EM8008  Panasonic ErgoFit In-Ear Earbud Headphone   \n",
              "2  2           B003EM6AOG  Panasonic ErgoFit In-Ear Earbud Headphone   \n",
              "3  3           B00E4LGVUO  Panasonic ErgoFit In-Ear Earbud Headphone   \n",
              "4  4           B003EM8008  Panasonic ErgoFit In-Ear Earbud Headphone   \n",
              "\n",
              "   star_rating            review_headline  \\\n",
              "0  5            Great In-Ear Headphones!    \n",
              "1  5            Good quality head phones!   \n",
              "2  5            Not bad at all!             \n",
              "3  5            Five Stars                  \n",
              "4  5            I love these!               \n",
              "\n",
              "                                                                                                                                                                                                                                                                                                                                                                             review_body  \\\n",
              "0  I LOVE THESE HEADPHONES! I am totally satisfied with the sound and the fact that they stay in my ears! They are great...and I love the color of course. :)                                                                                                                                                                                                                              \n",
              "1  Probably the best earphones ever. Better than the Apple ones, I just wished that it had a mic on it, but these will last you a long time. Just ordered my second pair (since my first one got stolen) I had these for about 5 months and it still was in good condition before someone took it. Definitely would recommend and continue to repurchase these. Also, fast shipping too.   \n",
              "2  Great headphones, I mean they aren't going to blow your mind or anything, but they really work perfectly for the price you pay and for what they are .. these work so nicely for me when I'm trying to do some work and need outside sounds blocked out and I just want to hear the video I'm watching or the music I'm listening to.                                                   \n",
              "3  I love them for their price and quality.                                                                                                                                                                                                                                                                                                                                                \n",
              "4  I love these earphones! They're very good for the price which is cheap.                                                                                                                                                                                                                                                                                                                 \n",
              "\n",
              "  review_date  \\\n",
              "0  2015-08-31   \n",
              "1  2015-08-31   \n",
              "2  2015-08-31   \n",
              "3  2015-08-31   \n",
              "4  2015-08-31   \n",
              "\n",
              "                                                                                                                                                                                                           review_lemmatized  \\\n",
              "0  love totally satisfied sound fact stay ear greatand love color course                                                                                                                                                       \n",
              "1  probably good earphone ever well apple one wish mic last long time order second pair since first one get steal  month still good condition someone take definitely would recommend continue repurchase also fast shipping   \n",
              "2  great mean go blow mind anything really work perfectly price pay work nicely try work need outside sound block want hear video watch music listening                                                                        \n",
              "3  love price quality                                                                                                                                                                                                          \n",
              "4  love earphone good price cheap                                                                                                                                                                                              \n",
              "\n",
              "                                                                                                                                                                                                                                                                                                  aspect_analysis  \\\n",
              "0  [{'aspect': 'love', 'description': 'totally satisfied', 'sentiment': (0.5, 1.0)}, {'aspect': 'sound', 'description': 'sound', 'sentiment': (0.4, 0.4)}, {'aspect': 'love', 'description': 'totally satisfied', 'sentiment': (0.5, 1.0)}, {'aspect': 'color', 'description': 'sound', 'sentiment': (0.4, 0.4)}]   \n",
              "1  [{'aspect': 'mic', 'description': 'good', 'sentiment': (0.7, 0.6000000000000001)}, {'aspect': 'condition', 'description': 'last', 'sentiment': (0.0, 0.06666666666666667)}, {'aspect': 'shipping', 'description': 'long', 'sentiment': (-0.05, 0.4)}]                                                            \n",
              "2  [{'aspect': 'price', 'description': 'great', 'sentiment': (0.8, 0.75)}, {'aspect': 'sound', 'description': 'outside', 'sentiment': (0.0, 0.05)}, {'aspect': 'music', 'description': 'great', 'sentiment': (0.8, 0.75)}]                                                                                          \n",
              "3  []                                                                                                                                                                                                                                                                                                               \n",
              "4  [{'aspect': 'love', 'description': 'good', 'sentiment': (0.7, 0.6000000000000001)}, {'aspect': 'price', 'description': 'cheap', 'sentiment': (0.4, 0.7)}]                                                                                                                                                        \n",
              "\n",
              "   sound  ...  package  shipping  jack  beat  control  cord  wire  mic  \\\n",
              "0  0.4    ... NaN      NaN       NaN   NaN   NaN      NaN   NaN   NaN    \n",
              "1 NaN     ... NaN      -0.05     NaN   NaN   NaN      NaN   NaN    0.7   \n",
              "2  0.0    ... NaN      NaN       NaN   NaN   NaN      NaN   NaN   NaN    \n",
              "3 NaN     ... NaN      NaN       NaN   NaN   NaN      NaN   NaN   NaN    \n",
              "4 NaN     ... NaN      NaN       NaN   NaN   NaN      NaN   NaN   NaN    \n",
              "\n",
              "   earbud  music  \n",
              "0 NaN     NaN     \n",
              "1 NaN     NaN     \n",
              "2 NaN      0.8    \n",
              "3 NaN     NaN     \n",
              "4 NaN     NaN     \n",
              "\n",
              "[5 rows x 34 columns]"
            ],
            "text/html": [
              "\n",
              "  <div id=\"df-03a14737-5515-42f3-b91a-235c681f31dc\">\n",
              "    <div class=\"colab-df-container\">\n",
              "      <div>\n",
              "<style scoped>\n",
              "    .dataframe tbody tr th:only-of-type {\n",
              "        vertical-align: middle;\n",
              "    }\n",
              "\n",
              "    .dataframe tbody tr th {\n",
              "        vertical-align: top;\n",
              "    }\n",
              "\n",
              "    .dataframe thead th {\n",
              "        text-align: right;\n",
              "    }\n",
              "</style>\n",
              "<table border=\"1\" class=\"dataframe\">\n",
              "  <thead>\n",
              "    <tr style=\"text-align: right;\">\n",
              "      <th></th>\n",
              "      <th>Unnamed: 0</th>\n",
              "      <th>product_id</th>\n",
              "      <th>product_tite</th>\n",
              "      <th>star_rating</th>\n",
              "      <th>review_headline</th>\n",
              "      <th>review_body</th>\n",
              "      <th>review_date</th>\n",
              "      <th>review_lemmatized</th>\n",
              "      <th>aspect_analysis</th>\n",
              "      <th>sound</th>\n",
              "      <th>...</th>\n",
              "      <th>package</th>\n",
              "      <th>shipping</th>\n",
              "      <th>jack</th>\n",
              "      <th>beat</th>\n",
              "      <th>control</th>\n",
              "      <th>cord</th>\n",
              "      <th>wire</th>\n",
              "      <th>mic</th>\n",
              "      <th>earbud</th>\n",
              "      <th>music</th>\n",
              "    </tr>\n",
              "  </thead>\n",
              "  <tbody>\n",
              "    <tr>\n",
              "      <th>0</th>\n",
              "      <td>0</td>\n",
              "      <td>B003EM6AQE</td>\n",
              "      <td>Panasonic ErgoFit In-Ear Earbud Headphone</td>\n",
              "      <td>5</td>\n",
              "      <td>Great In-Ear Headphones!</td>\n",
              "      <td>I LOVE THESE HEADPHONES! I am totally satisfied with the sound and the fact that they stay in my ears! They are great...and I love the color of course. :)</td>\n",
              "      <td>2015-08-31</td>\n",
              "      <td>love totally satisfied sound fact stay ear greatand love color course</td>\n",
              "      <td>[{'aspect': 'love', 'description': 'totally satisfied', 'sentiment': (0.5, 1.0)}, {'aspect': 'sound', 'description': 'sound', 'sentiment': (0.4, 0.4)}, {'aspect': 'love', 'description': 'totally satisfied', 'sentiment': (0.5, 1.0)}, {'aspect': 'color', 'description': 'sound', 'sentiment': (0.4, 0.4)}]</td>\n",
              "      <td>0.4</td>\n",
              "      <td>...</td>\n",
              "      <td>NaN</td>\n",
              "      <td>NaN</td>\n",
              "      <td>NaN</td>\n",
              "      <td>NaN</td>\n",
              "      <td>NaN</td>\n",
              "      <td>NaN</td>\n",
              "      <td>NaN</td>\n",
              "      <td>NaN</td>\n",
              "      <td>NaN</td>\n",
              "      <td>NaN</td>\n",
              "    </tr>\n",
              "    <tr>\n",
              "      <th>1</th>\n",
              "      <td>1</td>\n",
              "      <td>B003EM8008</td>\n",
              "      <td>Panasonic ErgoFit In-Ear Earbud Headphone</td>\n",
              "      <td>5</td>\n",
              "      <td>Good quality head phones!</td>\n",
              "      <td>Probably the best earphones ever. Better than the Apple ones, I just wished that it had a mic on it, but these will last you a long time. Just ordered my second pair (since my first one got stolen) I had these for about 5 months and it still was in good condition before someone took it. Definitely would recommend and continue to repurchase these. Also, fast shipping too.</td>\n",
              "      <td>2015-08-31</td>\n",
              "      <td>probably good earphone ever well apple one wish mic last long time order second pair since first one get steal  month still good condition someone take definitely would recommend continue repurchase also fast shipping</td>\n",
              "      <td>[{'aspect': 'mic', 'description': 'good', 'sentiment': (0.7, 0.6000000000000001)}, {'aspect': 'condition', 'description': 'last', 'sentiment': (0.0, 0.06666666666666667)}, {'aspect': 'shipping', 'description': 'long', 'sentiment': (-0.05, 0.4)}]</td>\n",
              "      <td>NaN</td>\n",
              "      <td>...</td>\n",
              "      <td>NaN</td>\n",
              "      <td>-0.05</td>\n",
              "      <td>NaN</td>\n",
              "      <td>NaN</td>\n",
              "      <td>NaN</td>\n",
              "      <td>NaN</td>\n",
              "      <td>NaN</td>\n",
              "      <td>0.7</td>\n",
              "      <td>NaN</td>\n",
              "      <td>NaN</td>\n",
              "    </tr>\n",
              "    <tr>\n",
              "      <th>2</th>\n",
              "      <td>2</td>\n",
              "      <td>B003EM6AOG</td>\n",
              "      <td>Panasonic ErgoFit In-Ear Earbud Headphone</td>\n",
              "      <td>5</td>\n",
              "      <td>Not bad at all!</td>\n",
              "      <td>Great headphones, I mean they aren't going to blow your mind or anything, but they really work perfectly for the price you pay and for what they are .. these work so nicely for me when I'm trying to do some work and need outside sounds blocked out and I just want to hear the video I'm watching or the music I'm listening to.</td>\n",
              "      <td>2015-08-31</td>\n",
              "      <td>great mean go blow mind anything really work perfectly price pay work nicely try work need outside sound block want hear video watch music listening</td>\n",
              "      <td>[{'aspect': 'price', 'description': 'great', 'sentiment': (0.8, 0.75)}, {'aspect': 'sound', 'description': 'outside', 'sentiment': (0.0, 0.05)}, {'aspect': 'music', 'description': 'great', 'sentiment': (0.8, 0.75)}]</td>\n",
              "      <td>0.0</td>\n",
              "      <td>...</td>\n",
              "      <td>NaN</td>\n",
              "      <td>NaN</td>\n",
              "      <td>NaN</td>\n",
              "      <td>NaN</td>\n",
              "      <td>NaN</td>\n",
              "      <td>NaN</td>\n",
              "      <td>NaN</td>\n",
              "      <td>NaN</td>\n",
              "      <td>NaN</td>\n",
              "      <td>0.8</td>\n",
              "    </tr>\n",
              "    <tr>\n",
              "      <th>3</th>\n",
              "      <td>3</td>\n",
              "      <td>B00E4LGVUO</td>\n",
              "      <td>Panasonic ErgoFit In-Ear Earbud Headphone</td>\n",
              "      <td>5</td>\n",
              "      <td>Five Stars</td>\n",
              "      <td>I love them for their price and quality.</td>\n",
              "      <td>2015-08-31</td>\n",
              "      <td>love price quality</td>\n",
              "      <td>[]</td>\n",
              "      <td>NaN</td>\n",
              "      <td>...</td>\n",
              "      <td>NaN</td>\n",
              "      <td>NaN</td>\n",
              "      <td>NaN</td>\n",
              "      <td>NaN</td>\n",
              "      <td>NaN</td>\n",
              "      <td>NaN</td>\n",
              "      <td>NaN</td>\n",
              "      <td>NaN</td>\n",
              "      <td>NaN</td>\n",
              "      <td>NaN</td>\n",
              "    </tr>\n",
              "    <tr>\n",
              "      <th>4</th>\n",
              "      <td>4</td>\n",
              "      <td>B003EM8008</td>\n",
              "      <td>Panasonic ErgoFit In-Ear Earbud Headphone</td>\n",
              "      <td>5</td>\n",
              "      <td>I love these!</td>\n",
              "      <td>I love these earphones! They're very good for the price which is cheap.</td>\n",
              "      <td>2015-08-31</td>\n",
              "      <td>love earphone good price cheap</td>\n",
              "      <td>[{'aspect': 'love', 'description': 'good', 'sentiment': (0.7, 0.6000000000000001)}, {'aspect': 'price', 'description': 'cheap', 'sentiment': (0.4, 0.7)}]</td>\n",
              "      <td>NaN</td>\n",
              "      <td>...</td>\n",
              "      <td>NaN</td>\n",
              "      <td>NaN</td>\n",
              "      <td>NaN</td>\n",
              "      <td>NaN</td>\n",
              "      <td>NaN</td>\n",
              "      <td>NaN</td>\n",
              "      <td>NaN</td>\n",
              "      <td>NaN</td>\n",
              "      <td>NaN</td>\n",
              "      <td>NaN</td>\n",
              "    </tr>\n",
              "  </tbody>\n",
              "</table>\n",
              "<p>5 rows × 34 columns</p>\n",
              "</div>\n",
              "      <button class=\"colab-df-convert\" onclick=\"convertToInteractive('df-03a14737-5515-42f3-b91a-235c681f31dc')\"\n",
              "              title=\"Convert this dataframe to an interactive table.\"\n",
              "              style=\"display:none;\">\n",
              "        \n",
              "  <svg xmlns=\"http://www.w3.org/2000/svg\" height=\"24px\"viewBox=\"0 0 24 24\"\n",
              "       width=\"24px\">\n",
              "    <path d=\"M0 0h24v24H0V0z\" fill=\"none\"/>\n",
              "    <path d=\"M18.56 5.44l.94 2.06.94-2.06 2.06-.94-2.06-.94-.94-2.06-.94 2.06-2.06.94zm-11 1L8.5 8.5l.94-2.06 2.06-.94-2.06-.94L8.5 2.5l-.94 2.06-2.06.94zm10 10l.94 2.06.94-2.06 2.06-.94-2.06-.94-.94-2.06-.94 2.06-2.06.94z\"/><path d=\"M17.41 7.96l-1.37-1.37c-.4-.4-.92-.59-1.43-.59-.52 0-1.04.2-1.43.59L10.3 9.45l-7.72 7.72c-.78.78-.78 2.05 0 2.83L4 21.41c.39.39.9.59 1.41.59.51 0 1.02-.2 1.41-.59l7.78-7.78 2.81-2.81c.8-.78.8-2.07 0-2.86zM5.41 20L4 18.59l7.72-7.72 1.47 1.35L5.41 20z\"/>\n",
              "  </svg>\n",
              "      </button>\n",
              "      \n",
              "  <style>\n",
              "    .colab-df-container {\n",
              "      display:flex;\n",
              "      flex-wrap:wrap;\n",
              "      gap: 12px;\n",
              "    }\n",
              "\n",
              "    .colab-df-convert {\n",
              "      background-color: #E8F0FE;\n",
              "      border: none;\n",
              "      border-radius: 50%;\n",
              "      cursor: pointer;\n",
              "      display: none;\n",
              "      fill: #1967D2;\n",
              "      height: 32px;\n",
              "      padding: 0 0 0 0;\n",
              "      width: 32px;\n",
              "    }\n",
              "\n",
              "    .colab-df-convert:hover {\n",
              "      background-color: #E2EBFA;\n",
              "      box-shadow: 0px 1px 2px rgba(60, 64, 67, 0.3), 0px 1px 3px 1px rgba(60, 64, 67, 0.15);\n",
              "      fill: #174EA6;\n",
              "    }\n",
              "\n",
              "    [theme=dark] .colab-df-convert {\n",
              "      background-color: #3B4455;\n",
              "      fill: #D2E3FC;\n",
              "    }\n",
              "\n",
              "    [theme=dark] .colab-df-convert:hover {\n",
              "      background-color: #434B5C;\n",
              "      box-shadow: 0px 1px 3px 1px rgba(0, 0, 0, 0.15);\n",
              "      filter: drop-shadow(0px 1px 2px rgba(0, 0, 0, 0.3));\n",
              "      fill: #FFFFFF;\n",
              "    }\n",
              "  </style>\n",
              "\n",
              "      <script>\n",
              "        const buttonEl =\n",
              "          document.querySelector('#df-03a14737-5515-42f3-b91a-235c681f31dc button.colab-df-convert');\n",
              "        buttonEl.style.display =\n",
              "          google.colab.kernel.accessAllowed ? 'block' : 'none';\n",
              "\n",
              "        async function convertToInteractive(key) {\n",
              "          const element = document.querySelector('#df-03a14737-5515-42f3-b91a-235c681f31dc');\n",
              "          const dataTable =\n",
              "            await google.colab.kernel.invokeFunction('convertToInteractive',\n",
              "                                                     [key], {});\n",
              "          if (!dataTable) return;\n",
              "\n",
              "          const docLinkHtml = 'Like what you see? Visit the ' +\n",
              "            '<a target=\"_blank\" href=https://colab.research.google.com/notebooks/data_table.ipynb>data table notebook</a>'\n",
              "            + ' to learn more about interactive tables.';\n",
              "          element.innerHTML = '';\n",
              "          dataTable['output_type'] = 'display_data';\n",
              "          await google.colab.output.renderOutput(dataTable, element);\n",
              "          const docLink = document.createElement('div');\n",
              "          docLink.innerHTML = docLinkHtml;\n",
              "          element.appendChild(docLink);\n",
              "        }\n",
              "      </script>\n",
              "    </div>\n",
              "  </div>\n",
              "  "
            ]
          },
          "metadata": {},
          "execution_count": 13
        }
      ],
      "source": [
        "headphone_df.head()"
      ]
    },
    {
      "cell_type": "markdown",
      "metadata": {
        "id": "HXrxwBfkKZDs"
      },
      "source": [
        "Grouping similar columns"
      ]
    },
    {
      "cell_type": "code",
      "execution_count": null,
      "metadata": {
        "id": "0KEW6RFeKVnF"
      },
      "outputs": [],
      "source": [
        "headphone_df['sound'] = (headphone_df.fillna(0)['audio'] + headphone_df.fillna(0)['sound'] + headphone_df.fillna(0)['music'] )/3"
      ]
    },
    {
      "cell_type": "code",
      "execution_count": null,
      "metadata": {
        "id": "aG9gqbNgLfJf"
      },
      "outputs": [],
      "source": [
        "headphone_df['sound'].unique()"
      ]
    },
    {
      "cell_type": "code",
      "execution_count": null,
      "metadata": {
        "id": "8kzNszGSL3Q-"
      },
      "outputs": [],
      "source": [
        "headphone_df = headphone_df.drop(['audio','music'], axis =1)"
      ]
    },
    {
      "cell_type": "code",
      "execution_count": null,
      "metadata": {
        "id": "WzeY4A7KMLiu"
      },
      "outputs": [],
      "source": [
        "headphone_df['cost'] = (headphone_df.fillna(0)['cost'] + headphone_df.fillna(0)['money'] + headphone_df.fillna(0)['price'] + headphone_df.fillna(0)['amount'])/4"
      ]
    },
    {
      "cell_type": "code",
      "source": [
        "headphone_df['cost'].unique()"
      ],
      "metadata": {
        "id": "aKiB-hswV2zu"
      },
      "execution_count": null,
      "outputs": []
    },
    {
      "cell_type": "code",
      "execution_count": null,
      "metadata": {
        "id": "1Zx2GZZ1Moqd"
      },
      "outputs": [],
      "source": [
        "headphone_df = headphone_df.drop(['money','price','amount'], axis =1)"
      ]
    },
    {
      "cell_type": "code",
      "execution_count": null,
      "metadata": {
        "id": "DlXaUunZMt55"
      },
      "outputs": [],
      "source": [
        "headphone_df['wire'] = (headphone_df.fillna(0)['cord'] + headphone_df.fillna(0)['wire'])/2"
      ]
    },
    {
      "cell_type": "code",
      "execution_count": null,
      "metadata": {
        "id": "xv_yaMNcM4A7"
      },
      "outputs": [],
      "source": [
        "headphone_df = headphone_df.drop(['cord'], axis =1)"
      ]
    },
    {
      "cell_type": "code",
      "execution_count": null,
      "metadata": {
        "colab": {
          "base_uri": "https://localhost:8080/"
        },
        "id": "6JhN7MIZQpHl",
        "outputId": "6b701e2b-3da8-4e25-9f86-43fcb028046c"
      },
      "outputs": [
        {
          "output_type": "execute_result",
          "data": {
            "text/plain": [
              "['Unnamed: 0',\n",
              " 'product_id',\n",
              " 'product_tite',\n",
              " 'star_rating',\n",
              " 'review_headline',\n",
              " 'review_body',\n",
              " 'review_date',\n",
              " 'review_lemmatized',\n",
              " 'aspect_analysis',\n",
              " 'sound',\n",
              " 'color',\n",
              " 'cost',\n",
              " 'condition',\n",
              " 'love',\n",
              " 'quality',\n",
              " 'inexpensive',\n",
              " 'amplifier',\n",
              " 'size',\n",
              " 'material',\n",
              " 'noise',\n",
              " 'package',\n",
              " 'shipping',\n",
              " 'jack',\n",
              " 'beat',\n",
              " 'control',\n",
              " 'wire',\n",
              " 'mic',\n",
              " 'earbud']"
            ]
          },
          "metadata": {},
          "execution_count": 27
        }
      ],
      "source": [
        "list(headphone_df.columns)"
      ]
    },
    {
      "cell_type": "code",
      "execution_count": null,
      "metadata": {
        "id": "dzegSAQ8M-UE"
      },
      "outputs": [],
      "source": [
        "headphone_df['Agg senti'] = (headphone_df.fillna(0)['sound']+ headphone_df.fillna(0)['color']+ headphone_df.fillna(0)['cost']+ headphone_df.fillna(0)['condition']+ headphone_df.fillna(0)['love']+ \n",
        "headphone_df.fillna(0)['quality']+ headphone_df.fillna(0)['inexpensive']+ headphone_df.fillna(0)['amplifier']+ headphone_df.fillna(0)['size']+ headphone_df.fillna(0)['material']+ headphone_df.fillna(0)['noise']+\n",
        "headphone_df.fillna(0)['package']+ headphone_df.fillna(0)['shipping']+ headphone_df.fillna(0)['jack']+ headphone_df.fillna(0)['beat']+ headphone_df.fillna(0)['control']+ headphone_df.fillna(0)['wire']+ headphone_df.fillna(0)['mic']+ headphone_df.fillna(0)['earbud'])/19"
      ]
    },
    {
      "cell_type": "code",
      "execution_count": null,
      "metadata": {
        "id": "kgZ1TN_WRgyN"
      },
      "outputs": [],
      "source": [
        "headphone_df['Agg senti binary'] = headphone_df['Agg senti'] .replace(np.nan, 0)"
      ]
    },
    {
      "cell_type": "code",
      "execution_count": null,
      "metadata": {
        "id": "TjQ0VNdDU4kK"
      },
      "outputs": [],
      "source": [
        "conditions = [\n",
        "    (headphone_df['Agg senti binary'] < 0.0),\n",
        "    (headphone_df['Agg senti binary'] >= 0.0)\n",
        "    ]\n",
        "Values =[0,1]\n",
        "headphone_df['Agg senti binary'] = np.select(conditions, Values)"
      ]
    },
    {
      "cell_type": "markdown",
      "metadata": {
        "id": "5TtwGmf8W2Fr"
      },
      "source": [
        "From binary classification file"
      ]
    },
    {
      "cell_type": "code",
      "execution_count": null,
      "metadata": {
        "id": "hxZ2kAtlWyTt"
      },
      "outputs": [],
      "source": [
        "conditions = [\n",
        "    (headphone_df['star_rating'] < 3.0),\n",
        "    (headphone_df['star_rating'] >= 3.0)\n",
        "    ]\n",
        "Values =[0,1]\n",
        "headphone_df['star_rating binary'] = np.select(conditions, Values)"
      ]
    },
    {
      "cell_type": "code",
      "execution_count": null,
      "metadata": {
        "colab": {
          "base_uri": "https://localhost:8080/"
        },
        "id": "e1LFURJIWogo",
        "outputId": "0cd67887-56fb-46b1-f5e1-ab4d33dea9e1"
      },
      "outputs": [
        {
          "output_type": "stream",
          "name": "stdout",
          "text": [
            "[[    0  1973]\n",
            " [    0 22837]]\n"
          ]
        }
      ],
      "source": [
        "from sklearn.metrics import confusion_matrix\n",
        "cf_matrix = confusion_matrix(headphone_df['star_rating binary'],headphone_df['Agg senti binary'])\n",
        "\n",
        "print(cf_matrix)"
      ]
    },
    {
      "cell_type": "code",
      "source": [
        "import matplotlib.pyplot as plt"
      ],
      "metadata": {
        "id": "8m2SGXKJWLjH"
      },
      "execution_count": null,
      "outputs": []
    },
    {
      "cell_type": "code",
      "execution_count": null,
      "metadata": {
        "colab": {
          "base_uri": "https://localhost:8080/",
          "height": 446
        },
        "id": "XSj5DJ4WWEef",
        "outputId": "de3fefef-e943-4ebf-8646-de7cc57d2c99"
      },
      "outputs": [
        {
          "output_type": "display_data",
          "data": {
            "text/plain": [
              "<Figure size 720x432 with 2 Axes>"
            ],
            "image/png": "[encoded data removed]"
          },
          "metadata": {
            "needs_background": "light"
          }
        }
      ],
      "source": [
        "fig, ax = plt.subplots(figsize=(10, 6))\n",
        "pd.set_option('display.float_format', lambda x: '%.6f' % x)\n",
        "\n",
        "import seaborn as sns\n",
        "\n",
        "ax = sns.heatmap(cf_matrix, annot=True, cmap='Blues',  fmt='g')\n",
        "\n",
        "ax.set_title('Seaborn Confusion Matrix with labels\\n\\n');\n",
        "ax.set_xlabel('\\nPredicted Values')\n",
        "ax.set_ylabel('Actual Values ');\n",
        "\n",
        "## Ticket labels - List must be in alphabetical order\n",
        "ax.xaxis.set_ticklabels(['False','True'])\n",
        "ax.yaxis.set_ticklabels(['False','True'])\n",
        "\n",
        "## Display the visualization of the Confusion Matrix.\n",
        "plt.show()"
      ]
    },
    {
      "cell_type": "code",
      "source": [
        "from sklearn.metrics import precision_score, recall_score, f1_score, accuracy_score\n",
        "print('Precision: %.3f' % precision_score(headphone_df['star_rating binary'],headphone_df['Agg senti binary']))\n",
        "print('Recall: %.3f' % recall_score(headphone_df['star_rating binary'],headphone_df['Agg senti binary']))\n",
        "print('Accuracy: %.3f' % accuracy_score(headphone_df['star_rating binary'],headphone_df['Agg senti binary']))\n",
        "print('F1 Score: %.3f' % f1_score(headphone_df['star_rating binary'],headphone_df['Agg senti binary']))"
      ],
      "metadata": {
        "colab": {
          "base_uri": "https://localhost:8080/"
        },
        "id": "SDC1DE8idOk4",
        "outputId": "25f31eb9-8e2f-4637-f254-1e8a76caf126"
      },
      "execution_count": null,
      "outputs": [
        {
          "output_type": "stream",
          "name": "stdout",
          "text": [
            "Precision: 0.920\n",
            "Recall: 1.000\n",
            "Accuracy: 0.920\n",
            "F1 Score: 0.959\n"
          ]
        }
      ]
    },
    {
      "cell_type": "code",
      "source": [
        "headphone_df.to_csv('final_headphone_df.csv')"
      ],
      "metadata": {
        "id": "uBOJ2PTndgc0"
      },
      "execution_count": null,
      "outputs": []
    },
    {
      "cell_type": "code",
      "execution_count": null,
      "metadata": {
        "id": "LKOeSvLIbjLv"
      },
      "outputs": [],
      "source": [
        "import datetime;\n",
        "headphone_df = headphone_df.fillna(0)\n",
        "headphone_df['review_date'] = pd.to_datetime(headphone_df['review_date'])\n",
        "headphone_df['reviewYear'] = pd.DatetimeIndex(df['review_date']).year"
      ]
    },
    {
      "cell_type": "code",
      "execution_count": null,
      "metadata": {
        "colab": {
          "base_uri": "https://localhost:8080/"
        },
        "id": "_uMedPCgVB3m",
        "outputId": "b9066598-86ef-4c26-90a6-52ad422f715e"
      },
      "outputs": [
        {
          "data": {
            "text/plain": [
              "0        2015\n",
              "1        2015\n",
              "2        2015\n",
              "3        2015\n",
              "4        2015\n",
              "         ... \n",
              "24805    2010\n",
              "24806    2010\n",
              "24807    2010\n",
              "24808    2010\n",
              "24809    2010\n",
              "Name: reviewYear, Length: 24810, dtype: int64"
            ]
          },
          "execution_count": 18,
          "metadata": {},
          "output_type": "execute_result"
        }
      ],
      "source": [
        "headphone_df['reviewYear']"
      ]
    },
    {
      "cell_type": "code",
      "execution_count": null,
      "metadata": {
        "colab": {
          "base_uri": "https://localhost:8080/",
          "height": 406
        },
        "id": "u9BHXm6upahg",
        "outputId": "ef870a54-8a78-4178-a469-b88ad8770b58"
      },
      "outputs": [
        {
          "name": "stderr",
          "output_type": "stream",
          "text": [
            "/usr/local/lib/python3.7/dist-packages/seaborn/apionly.py:9: UserWarning: As seaborn no longer sets a default style on import, the seaborn.apionly module is deprecated. It will be removed in a future version.\n",
            "  warnings.warn(msg, UserWarning)\n"
          ]
        },
        {
          "data": {
            "text/plain": [
              "Text(0, 0.5, 'Number of Reviews')"
            ]
          },
          "execution_count": 19,
          "metadata": {},
          "output_type": "execute_result"
        },
        {
          "data": {
            "image/png": "[encoded data removed]",
            "text/plain": [
              "<Figure size 1008x360 with 2 Axes>"
            ]
          },
          "metadata": {},
          "output_type": "display_data"
        }
      ],
      "source": [
        "import matplotlib.pyplot as plt\n",
        "import seaborn.apionly as sns\n",
        "import pandas as pd\n",
        "import numpy as np\n",
        "fig, ((ax1, ax2)) = plt.subplots(nrows=1, ncols=2, figsize=(14,5))\n",
        "prod_by_yr = headphone_df[['reviewYear','product_id']].drop_duplicates()\n",
        "g2 = sns.countplot( x = 'reviewYear', data = prod_by_yr, color = \"lightblue\", ax = ax1 )\n",
        "g2.set_xlabel('Year')\n",
        "g2.set_ylabel('Number of Products Reviewed')\n",
        "\n",
        "g1 = sns.countplot( x = 'reviewYear', data = headphone_df, color = \"lightgreen\", ax = ax2 )\n",
        "g1.set_xlabel('Year of Review')\n",
        "g1.set_ylabel('Number of Reviews')"
      ]
    },
    {
      "cell_type": "code",
      "execution_count": null,
      "metadata": {
        "id": "bp8CxRkADzo3"
      },
      "outputs": [],
      "source": [
        "df_graph = headphone_df['product_id'].drop_duplicates()\n",
        "df_graph= headphone_df.groupby('product_id').std().reset_index('product_id')\n",
        "df_graph.values.tolist()"
      ]
    },
    {
      "cell_type": "code",
      "execution_count": null,
      "metadata": {
        "colab": {
          "base_uri": "https://localhost:8080/",
          "height": 801
        },
        "id": "fs5pJwzxMIii",
        "outputId": "635c689e-987c-4a36-82e1-dac0e00eef91"
      },
      "outputs": [
        {
          "name": "stdout",
          "output_type": "stream",
          "text": [
            "Collecting pyam-iamc\n",
            "  Downloading pyam_iamc-1.4.0-py3-none-any.whl (93 kB)\n",
            "\u001b[?25l\r\u001b[K     |███▌                            | 10 kB 20.0 MB/s eta 0:00:01\r\u001b[K     |███████                         | 20 kB 23.4 MB/s eta 0:00:01\r\u001b[K     |██████████▋                     | 30 kB 27.8 MB/s eta 0:00:01\r\u001b[K     |██████████████                  | 40 kB 31.3 MB/s eta 0:00:01\r\u001b[K     |█████████████████▋              | 51 kB 31.8 MB/s eta 0:00:01\r\u001b[K     |█████████████████████▏          | 61 kB 35.2 MB/s eta 0:00:01\r\u001b[K     |████████████████████████▋       | 71 kB 31.4 MB/s eta 0:00:01\r\u001b[K     |████████████████████████████▏   | 81 kB 30.3 MB/s eta 0:00:01\r\u001b[K     |███████████████████████████████▊| 92 kB 32.3 MB/s eta 0:00:01\r\u001b[K     |████████████████████████████████| 93 kB 1.1 MB/s \n",
            "\u001b[?25hRequirement already satisfied: six in /usr/local/lib/python3.7/dist-packages (from pyam-iamc) (1.15.0)\n",
            "Requirement already satisfied: PyYAML in /usr/local/lib/python3.7/dist-packages (from pyam-iamc) (3.13)\n",
            "Requirement already satisfied: requests in /usr/local/lib/python3.7/dist-packages (from pyam-iamc) (2.23.0)\n",
            "Collecting xlrd>=2.0\n",
            "  Downloading xlrd-2.0.1-py2.py3-none-any.whl (96 kB)\n",
            "\u001b[K     |████████████████████████████████| 96 kB 5.6 MB/s \n",
            "\u001b[?25hRequirement already satisfied: pandas>=1.1.1 in /usr/local/lib/python3.7/dist-packages (from pyam-iamc) (1.3.5)\n",
            "Requirement already satisfied: seaborn in /usr/local/lib/python3.7/dist-packages (from pyam-iamc) (0.11.2)\n",
            "Requirement already satisfied: openpyxl in /usr/local/lib/python3.7/dist-packages (from pyam-iamc) (3.0.9)\n",
            "Requirement already satisfied: numpy>=1.19.0 in /usr/local/lib/python3.7/dist-packages (from pyam-iamc) (1.21.6)\n",
            "Requirement already satisfied: matplotlib>=3.2.0 in /usr/local/lib/python3.7/dist-packages (from pyam-iamc) (3.2.2)\n",
            "Collecting iam-units>=2020.4.21\n",
            "  Downloading iam_units-2021.11.12-py3-none-any.whl (31 kB)\n",
            "Collecting setuptools-scm\n",
            "  Downloading setuptools_scm-6.4.2-py3-none-any.whl (37 kB)\n",
            "Requirement already satisfied: importlib-metadata in /usr/local/lib/python3.7/dist-packages (from pyam-iamc) (4.11.3)\n",
            "Requirement already satisfied: setuptools>=41 in /usr/local/lib/python3.7/dist-packages (from pyam-iamc) (57.4.0)\n",
            "Collecting pint<0.19,>=0.13\n",
            "  Downloading Pint-0.18-py2.py3-none-any.whl (209 kB)\n",
            "\u001b[K     |████████████████████████████████| 209 kB 53.3 MB/s \n",
            "\u001b[?25hRequirement already satisfied: python-dateutil>=2.1 in /usr/local/lib/python3.7/dist-packages (from matplotlib>=3.2.0->pyam-iamc) (2.8.2)\n",
            "Requirement already satisfied: cycler>=0.10 in /usr/local/lib/python3.7/dist-packages (from matplotlib>=3.2.0->pyam-iamc) (0.11.0)\n",
            "Requirement already satisfied: kiwisolver>=1.0.1 in /usr/local/lib/python3.7/dist-packages (from matplotlib>=3.2.0->pyam-iamc) (1.4.2)\n",
            "Requirement already satisfied: pyparsing!=2.0.4,!=2.1.2,!=2.1.6,>=2.0.1 in /usr/local/lib/python3.7/dist-packages (from matplotlib>=3.2.0->pyam-iamc) (3.0.8)\n",
            "Requirement already satisfied: typing-extensions in /usr/local/lib/python3.7/dist-packages (from kiwisolver>=1.0.1->matplotlib>=3.2.0->pyam-iamc) (4.2.0)\n",
            "Requirement already satisfied: pytz>=2017.3 in /usr/local/lib/python3.7/dist-packages (from pandas>=1.1.1->pyam-iamc) (2022.1)\n",
            "Requirement already satisfied: packaging in /usr/local/lib/python3.7/dist-packages (from pint<0.19,>=0.13->pyam-iamc) (21.3)\n",
            "Requirement already satisfied: zipp>=0.5 in /usr/local/lib/python3.7/dist-packages (from importlib-metadata->pyam-iamc) (3.8.0)\n",
            "Requirement already satisfied: et-xmlfile in /usr/local/lib/python3.7/dist-packages (from openpyxl->pyam-iamc) (1.1.0)\n",
            "Requirement already satisfied: urllib3!=1.25.0,!=1.25.1,<1.26,>=1.21.1 in /usr/local/lib/python3.7/dist-packages (from requests->pyam-iamc) (1.24.3)\n",
            "Requirement already satisfied: idna<3,>=2.5 in /usr/local/lib/python3.7/dist-packages (from requests->pyam-iamc) (2.10)\n",
            "Requirement already satisfied: chardet<4,>=3.0.2 in /usr/local/lib/python3.7/dist-packages (from requests->pyam-iamc) (3.0.4)\n",
            "Requirement already satisfied: certifi>=2017.4.17 in /usr/local/lib/python3.7/dist-packages (from requests->pyam-iamc) (2021.10.8)\n",
            "Requirement already satisfied: scipy>=1.0 in /usr/local/lib/python3.7/dist-packages (from seaborn->pyam-iamc) (1.4.1)\n",
            "Requirement already satisfied: tomli>=1.0.0 in /usr/local/lib/python3.7/dist-packages (from setuptools-scm->pyam-iamc) (2.0.1)\n",
            "Installing collected packages: pint, xlrd, setuptools-scm, iam-units, pyam-iamc\n",
            "  Attempting uninstall: xlrd\n",
            "    Found existing installation: xlrd 1.1.0\n",
            "    Uninstalling xlrd-1.1.0:\n",
            "      Successfully uninstalled xlrd-1.1.0\n",
            "Successfully installed iam-units-2021.11.12 pint-0.18 pyam-iamc-1.4.0 setuptools-scm-6.4.2 xlrd-2.0.1\n"
          ]
        },
        {
          "data": {
            "application/javascript": [
              "if (typeof IPython !== 'undefined') { IPython.OutputArea.prototype._should_scroll = function(lines){ return false; }}"
            ],
            "text/plain": [
              "<IPython.core.display.Javascript object>"
            ]
          },
          "metadata": {},
          "output_type": "display_data"
        }
      ],
      "source": [
        "!pip install pyam-iamc\n",
        "import pyam"
      ]
    },
    {
      "cell_type": "code",
      "execution_count": null,
      "metadata": {
        "colab": {
          "base_uri": "https://localhost:8080/",
          "height": 381
        },
        "id": "6i99lq-iMiGh",
        "outputId": "27261481-ee3b-4eba-c959-4825fc2eb9f4"
      },
      "outputs": [
        {
          "ename": "ValueError",
          "evalue": "ignored",
          "output_type": "error",
          "traceback": [
            "\u001b[0;31m---------------------------------------------------------------------------\u001b[0m",
            "\u001b[0;31mValueError\u001b[0m                                Traceback (most recent call last)",
            "\u001b[0;32m<ipython-input-22-22c6341003b3>\u001b[0m in \u001b[0;36m<module>\u001b[0;34m()\u001b[0m\n\u001b[1;32m    222\u001b[0m  \u001b[0;34m'inexpensive'\u001b[0m\u001b[0;34m,\u001b[0m\u001b[0;34m\u001b[0m\u001b[0;34m\u001b[0m\u001b[0m\n\u001b[1;32m    223\u001b[0m  \u001b[0;34m'amplifier'\u001b[0m\u001b[0;34m,\u001b[0m\u001b[0;34m\u001b[0m\u001b[0;34m\u001b[0m\u001b[0m\n\u001b[0;32m--> 224\u001b[0;31m  'reviewYear']\n\u001b[0m\u001b[1;32m    225\u001b[0m ))\n\u001b[1;32m    226\u001b[0m \u001b[0mdf\u001b[0m\u001b[0;34m.\u001b[0m\u001b[0mhead\u001b[0m\u001b[0;34m(\u001b[0m\u001b[0;34m)\u001b[0m\u001b[0;34m\u001b[0m\u001b[0;34m\u001b[0m\u001b[0m\n",
            "\u001b[0;32m/usr/local/lib/python3.7/dist-packages/pyam/core.py\u001b[0m in \u001b[0;36m__init__\u001b[0;34m(self, data, meta, index, **kwargs)\u001b[0m\n\u001b[1;32m    156\u001b[0m                 \u001b[0msetattr\u001b[0m\u001b[0;34m(\u001b[0m\u001b[0mself\u001b[0m\u001b[0;34m,\u001b[0m \u001b[0mattr\u001b[0m\u001b[0;34m,\u001b[0m \u001b[0mvalue\u001b[0m\u001b[0;34m)\u001b[0m\u001b[0;34m\u001b[0m\u001b[0;34m\u001b[0m\u001b[0m\n\u001b[1;32m    157\u001b[0m         \u001b[0;32melse\u001b[0m\u001b[0;34m:\u001b[0m\u001b[0;34m\u001b[0m\u001b[0;34m\u001b[0m\u001b[0m\n\u001b[0;32m--> 158\u001b[0;31m             \u001b[0mself\u001b[0m\u001b[0;34m.\u001b[0m\u001b[0m_init\u001b[0m\u001b[0;34m(\u001b[0m\u001b[0mdata\u001b[0m\u001b[0;34m,\u001b[0m \u001b[0mmeta\u001b[0m\u001b[0;34m,\u001b[0m \u001b[0mindex\u001b[0m\u001b[0;34m=\u001b[0m\u001b[0mindex\u001b[0m\u001b[0;34m,\u001b[0m \u001b[0;34m**\u001b[0m\u001b[0mkwargs\u001b[0m\u001b[0;34m)\u001b[0m\u001b[0;34m\u001b[0m\u001b[0;34m\u001b[0m\u001b[0m\n\u001b[0m\u001b[1;32m    159\u001b[0m \u001b[0;34m\u001b[0m\u001b[0m\n\u001b[1;32m    160\u001b[0m     \u001b[0;32mdef\u001b[0m \u001b[0m_init\u001b[0m\u001b[0;34m(\u001b[0m\u001b[0mself\u001b[0m\u001b[0;34m,\u001b[0m \u001b[0mdata\u001b[0m\u001b[0;34m,\u001b[0m \u001b[0mmeta\u001b[0m\u001b[0;34m=\u001b[0m\u001b[0;32mNone\u001b[0m\u001b[0;34m,\u001b[0m \u001b[0mindex\u001b[0m\u001b[0;34m=\u001b[0m\u001b[0mDEFAULT_META_INDEX\u001b[0m\u001b[0;34m,\u001b[0m \u001b[0;34m**\u001b[0m\u001b[0mkwargs\u001b[0m\u001b[0;34m)\u001b[0m\u001b[0;34m:\u001b[0m\u001b[0;34m\u001b[0m\u001b[0;34m\u001b[0m\u001b[0m\n",
            "\u001b[0;32m/usr/local/lib/python3.7/dist-packages/pyam/core.py\u001b[0m in \u001b[0;36m_init\u001b[0;34m(self, data, meta, index, **kwargs)\u001b[0m\n\u001b[1;32m    172\u001b[0m         \u001b[0;31m# cast data from pandas\u001b[0m\u001b[0;34m\u001b[0m\u001b[0;34m\u001b[0m\u001b[0;34m\u001b[0m\u001b[0m\n\u001b[1;32m    173\u001b[0m         \u001b[0;32mif\u001b[0m \u001b[0misinstance\u001b[0m\u001b[0;34m(\u001b[0m\u001b[0mdata\u001b[0m\u001b[0;34m,\u001b[0m \u001b[0mpd\u001b[0m\u001b[0;34m.\u001b[0m\u001b[0mDataFrame\u001b[0m\u001b[0;34m)\u001b[0m \u001b[0;32mor\u001b[0m \u001b[0misinstance\u001b[0m\u001b[0;34m(\u001b[0m\u001b[0mdata\u001b[0m\u001b[0;34m,\u001b[0m \u001b[0mpd\u001b[0m\u001b[0;34m.\u001b[0m\u001b[0mSeries\u001b[0m\u001b[0;34m)\u001b[0m\u001b[0;34m:\u001b[0m\u001b[0;34m\u001b[0m\u001b[0;34m\u001b[0m\u001b[0m\n\u001b[0;32m--> 174\u001b[0;31m             \u001b[0m_data\u001b[0m \u001b[0;34m=\u001b[0m \u001b[0mformat_data\u001b[0m\u001b[0;34m(\u001b[0m\u001b[0mdata\u001b[0m\u001b[0;34m.\u001b[0m\u001b[0mcopy\u001b[0m\u001b[0;34m(\u001b[0m\u001b[0;34m)\u001b[0m\u001b[0;34m,\u001b[0m \u001b[0mindex\u001b[0m\u001b[0;34m=\u001b[0m\u001b[0mindex\u001b[0m\u001b[0;34m,\u001b[0m \u001b[0;34m**\u001b[0m\u001b[0mkwargs\u001b[0m\u001b[0;34m)\u001b[0m\u001b[0;34m\u001b[0m\u001b[0;34m\u001b[0m\u001b[0m\n\u001b[0m\u001b[1;32m    175\u001b[0m \u001b[0;34m\u001b[0m\u001b[0m\n\u001b[1;32m    176\u001b[0m         \u001b[0;31m# read data from ixmp Platform instance\u001b[0m\u001b[0;34m\u001b[0m\u001b[0;34m\u001b[0m\u001b[0;34m\u001b[0m\u001b[0m\n",
            "\u001b[0;32m/usr/local/lib/python3.7/dist-packages/pyam/utils.py\u001b[0m in \u001b[0;36mformat_data\u001b[0;34m(df, index, **kwargs)\u001b[0m\n\u001b[1;32m    278\u001b[0m     \u001b[0mmissing_index\u001b[0m \u001b[0;34m=\u001b[0m \u001b[0;34m[\u001b[0m\u001b[0mc\u001b[0m \u001b[0;32mfor\u001b[0m \u001b[0mc\u001b[0m \u001b[0;32min\u001b[0m \u001b[0mindex\u001b[0m \u001b[0;32mif\u001b[0m \u001b[0mc\u001b[0m \u001b[0;32mnot\u001b[0m \u001b[0;32min\u001b[0m \u001b[0mdf\u001b[0m\u001b[0;34m.\u001b[0m\u001b[0mcolumns\u001b[0m\u001b[0;34m]\u001b[0m\u001b[0;34m\u001b[0m\u001b[0;34m\u001b[0m\u001b[0m\n\u001b[1;32m    279\u001b[0m     \u001b[0;32mif\u001b[0m \u001b[0mmissing_index\u001b[0m\u001b[0;34m:\u001b[0m\u001b[0;34m\u001b[0m\u001b[0;34m\u001b[0m\u001b[0m\n\u001b[0;32m--> 280\u001b[0;31m         \u001b[0;32mraise\u001b[0m \u001b[0mValueError\u001b[0m\u001b[0;34m(\u001b[0m\u001b[0;34mf\"Missing index columns: {missing_index}\"\u001b[0m\u001b[0;34m)\u001b[0m\u001b[0;34m\u001b[0m\u001b[0;34m\u001b[0m\u001b[0m\n\u001b[0m\u001b[1;32m    281\u001b[0m \u001b[0;34m\u001b[0m\u001b[0m\n\u001b[1;32m    282\u001b[0m     \u001b[0mmissing_required_col\u001b[0m \u001b[0;34m=\u001b[0m \u001b[0;34m[\u001b[0m\u001b[0mc\u001b[0m \u001b[0;32mfor\u001b[0m \u001b[0mc\u001b[0m \u001b[0;32min\u001b[0m \u001b[0mREQUIRED_COLS\u001b[0m \u001b[0;32mif\u001b[0m \u001b[0mc\u001b[0m \u001b[0;32mnot\u001b[0m \u001b[0;32min\u001b[0m \u001b[0mdf\u001b[0m\u001b[0;34m.\u001b[0m\u001b[0mcolumns\u001b[0m\u001b[0;34m]\u001b[0m\u001b[0;34m\u001b[0m\u001b[0;34m\u001b[0m\u001b[0m\n",
            "\u001b[0;31mValueError\u001b[0m: Missing index columns: ['scenario']"
          ]
        }
      ],
      "source": [
        "df = pyam.IamDataFrame(pd.DataFrame([['B003ELYQGG',\n",
        "  7193.82552560851,\n",
        "  0.970737497134811,\n",
        "  0.33586028672003043,\n",
        "  0.16567105596560588,\n",
        "  0.0778466525244572,\n",
        "  0.031278266016789395,\n",
        "  0.15086141991324473,\n",
        "  0.30151989486127745,\n",
        "  0.11835757872729531,\n",
        "  0.05861179469205192,\n",
        "  0.24354659741896387,\n",
        "  0.030752459225934337,\n",
        "  0.07167740574820979,\n",
        "  0.0,\n",
        "  1.0301640847503803],\n",
        " ['B003ELYQHK',\n",
        "  7289.518447037138,\n",
        "  0.9787179081783562,\n",
        "  0.3341843489052724,\n",
        "  0.16421784223412136,\n",
        "  0.08096162521051362,\n",
        "  0.04098267524755235,\n",
        "  0.1602025050081224,\n",
        "  0.3023253358013799,\n",
        "  0.10813922815395148,\n",
        "  0.07903111628245055,\n",
        "  0.2545473403764629,\n",
        "  0.039430210961021825,\n",
        "  0.07451477950563902,\n",
        "  0.004125684985035179,\n",
        "  1.0062586384185952],\n",
        " ['B003ELYQJI',\n",
        "  7233.436346049488,\n",
        "  1.0662305726503705,\n",
        "  0.3231401183558752,\n",
        "  0.1430445463499366,\n",
        "  0.0836969567822899,\n",
        "  0.036228265158992246,\n",
        "  0.1594318435245493,\n",
        "  0.2842646789111211,\n",
        "  0.11436028164177638,\n",
        "  0.07036894744550586,\n",
        "  0.2460172244505064,\n",
        "  0.05458385888489717,\n",
        "  0.08062805082541578,\n",
        "  0.0,\n",
        "  1.009008371609487],\n",
        " ['B003EM2WAW',\n",
        "  6746.050632149417,\n",
        "  0.9388232299730811,\n",
        "  0.3258519525209743,\n",
        "  0.14942607945772374,\n",
        "  0.0782772912438095,\n",
        "  0.03656771332726538,\n",
        "  0.18717805042569982,\n",
        "  0.27421388147657594,\n",
        "  0.10500361146197601,\n",
        "  0.053308209259532294,\n",
        "  0.23024041973972886,\n",
        "  0.054417427281175844,\n",
        "  0.06620830350245585,\n",
        "  0.0,\n",
        "  0.9296388949130885],\n",
        " ['B003EM6AOG',\n",
        "  7317.363250646794,\n",
        "  0.9818768304447544,\n",
        "  0.32066932083916666,\n",
        "  0.13371213167505472,\n",
        "  0.06842181343822458,\n",
        "  0.04706213779308771,\n",
        "  0.14448588601871148,\n",
        "  0.2857002400747898,\n",
        "  0.09089620040326597,\n",
        "  0.061900571202468974,\n",
        "  0.23829981928940322,\n",
        "  0.03669872383130656,\n",
        "  0.07802094058250475,\n",
        "  0.0,\n",
        "  1.019881108547493],\n",
        " ['B003EM6AQE',\n",
        "  7009.096687916191,\n",
        "  0.9996407026490244,\n",
        "  0.3322676238208017,\n",
        "  0.17782164389472585,\n",
        "  0.0717615500748088,\n",
        "  0.033112173018381166,\n",
        "  0.1923964476094867,\n",
        "  0.2802849746361901,\n",
        "  0.10153660731788981,\n",
        "  0.05314213456170126,\n",
        "  0.24271482532481162,\n",
        "  0.030758747431175584,\n",
        "  0.08452136867711099,\n",
        "  0.0,\n",
        "  0.9634139042069474],\n",
        " ['B003EM8008',\n",
        "  7119.347637448929,\n",
        "  1.0983057502477003,\n",
        "  0.3406068321591039,\n",
        "  0.04533847729892565,\n",
        "  0.08756151080879397,\n",
        "  0.029503815503932936,\n",
        "  0.1281027713940326,\n",
        "  0.29319074495498637,\n",
        "  0.11391163383774355,\n",
        "  0.07717785628808241,\n",
        "  0.2505785278071053,\n",
        "  0.04405215493820443,\n",
        "  0.07571505065432739,\n",
        "  0.008282949537398316,\n",
        "  0.9723702000589143],\n",
        " ['B003EM800S',\n",
        "  7361.302489528599,\n",
        "  1.055793018039103,\n",
        "  0.333834588937243,\n",
        "  0.06584543083005068,\n",
        "  0.08715840347456064,\n",
        "  0.043903459876388426,\n",
        "  0.14160367523565748,\n",
        "  0.28094325025937683,\n",
        "  0.09419448571198451,\n",
        "  0.06984963588489371,\n",
        "  0.2551323637382632,\n",
        "  0.037927909522116124,\n",
        "  0.06782492444198471,\n",
        "  0.014871921190863686,\n",
        "  1.0282271433103178],\n",
        " ['B00E4LGTVU',\n",
        "  4648.587639679754,\n",
        "  0.9116585333690082,\n",
        "  0.32062431946658315,\n",
        "  0.17686989447852666,\n",
        "  0.06527533657682194,\n",
        "  0.0,\n",
        "  0.15365866061401603,\n",
        "  0.32365994340144094,\n",
        "  0.071868916185328,\n",
        "  0.10441804146638922,\n",
        "  0.2241470994610377,\n",
        "  0.0746003846592251,\n",
        "  0.0606128125356204,\n",
        "  0.0,\n",
        "  0.5171358072819044],\n",
        " ['B00E4LGTYC',\n",
        "  4295.5163406611055,\n",
        "  0.9661601197511107,\n",
        "  0.349991261384065,\n",
        "  0.1230660207636848,\n",
        "  0.06468822361931574,\n",
        "  0.0,\n",
        "  0.13850932664371082,\n",
        "  0.2806450610458099,\n",
        "  0.11427622766041799,\n",
        "  0.0933517496388008,\n",
        "  0.24976857161187568,\n",
        "  0.03742759613449134,\n",
        "  0.09330098985127881,\n",
        "  0.0,\n",
        "  0.4937935667976788],\n",
        " ['B00E4LGU1Y',\n",
        "  4940.243071049687,\n",
        "  1.1409309080962895,\n",
        "  0.37494493278326085,\n",
        "  0.05578524610186687,\n",
        "  0.09599829484116758,\n",
        "  0.0,\n",
        "  0.16773381186425138,\n",
        "  0.28197800304793025,\n",
        "  0.1576711715766064,\n",
        "  0.0953757555432605,\n",
        "  0.3048243946226122,\n",
        "  0.03106854602666616,\n",
        "  0.02855607898454174,\n",
        "  0.0,\n",
        "  0.6054495183637113],\n",
        " ['B00E4LGU32',\n",
        "  4111.929575813273,\n",
        "  0.9748763465495802,\n",
        "  0.3176064875303062,\n",
        "  0.09735354430491751,\n",
        "  0.0,\n",
        "  0.0,\n",
        "  0.2145222331082599,\n",
        "  0.27900570547616305,\n",
        "  0.073945334550672,\n",
        "  0.03682298471593293,\n",
        "  0.2128957274292784,\n",
        "  0.026696663919051372,\n",
        "  0.0,\n",
        "  0.0,\n",
        "  0.5100752246022259],\n",
        " ['B00E4LGVUO',\n",
        "  4793.1379487971935,\n",
        "  1.1230433926178376,\n",
        "  0.3506568644958953,\n",
        "  0.032279566576494195,\n",
        "  0.08048967409906378,\n",
        "  0.0,\n",
        "  0.11021304092481614,\n",
        "  0.3000510115206507,\n",
        "  0.12205842734238459,\n",
        "  0.08566887983120394,\n",
        "  0.23162596819134118,\n",
        "  0.04758657297937671,\n",
        "  0.06820650762816059,\n",
        "  0.0016162704595880915,\n",
        "  0.542394783679224]],\n",
        "    columns=['model',\n",
        " 'Unnamed: 0',\n",
        " 'star_rating',\n",
        " 'sound',\n",
        " 'color',\n",
        " 'cost',\n",
        " 'condition',\n",
        " 'love',\n",
        " 'price',\n",
        " 'money',\n",
        " 'audio',\n",
        " 'quality',\n",
        " 'amount',\n",
        " 'inexpensive',\n",
        " 'amplifier',\n",
        " 'reviewYear']\n",
        "))\n",
        "df.head()"
      ]
    },
    {
      "cell_type": "code",
      "execution_count": null,
      "metadata": {
        "colab": {
          "base_uri": "https://localhost:8080/",
          "height": 295
        },
        "id": "GZJ_orysODmF",
        "outputId": "c1da8c9f-c290-419a-d42a-377f8d5051f0"
      },
      "outputs": [
        {
          "data": {
            "image/png": "[encoded data removed]",
            "text/plain": [
              "<Figure size 432x288 with 1 Axes>"
            ]
          },
          "metadata": {},
          "output_type": "display_data"
        }
      ],
      "source": [
        "df.plot.stack();"
      ]
    }
  ],
  "metadata": {
    "colab": {
      "collapsed_sections": [],
      "name": " Sentiment Analysis 2.ipynb",
      "provenance": []
    },
    "kernelspec": {
      "display_name": "Python 3",
      "name": "python3"
    },
    "language_info": {
      "name": "python"
    }
  },
  "nbformat": 4,
  "nbformat_minor": 0
}