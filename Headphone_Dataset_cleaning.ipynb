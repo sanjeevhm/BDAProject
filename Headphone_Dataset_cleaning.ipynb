{
  "nbformat": 4,
  "nbformat_minor": 0,
  "metadata": {
    "colab": {
      "name": "Headphone_Dataset_cleaning.ipynb",
      "provenance": [],
      "collapsed_sections": [],
      "include_colab_link": true
    },
    "kernelspec": {
      "name": "python3",
      "display_name": "Python 3"
    },
    "language_info": {
      "name": "python"
    }
  },
  "cells": [
    {
      "cell_type": "markdown",
      "metadata": {
        "id": "view-in-github",
        "colab_type": "text"
      },
      "source": [
        "<a href=\"https://colab.research.google.com/github/sanjeevhm/BDAProject/blob/binary_classification/Headphone_Dataset_cleaning.ipynb\" target=\"_parent\"><img src=\"https://colab.research.google.com/assets/colab-badge.svg\" alt=\"Open In Colab\"/></a>"
      ]
    },
    {
      "cell_type": "code",
      "source": [
        "pip install contractions"
      ],
      "metadata": {
        "colab": {
          "base_uri": "https://localhost:8080/"
        },
        "id": "z-3_WvOjhNXW",
        "outputId": "ede01bcb-5a69-4d4f-ccb9-55730b7ab156"
      },
      "execution_count": 27,
      "outputs": [
        {
          "output_type": "stream",
          "name": "stdout",
          "text": [
            "Requirement already satisfied: contractions in /usr/local/lib/python3.7/dist-packages (0.1.72)\n",
            "Requirement already satisfied: textsearch>=0.0.21 in /usr/local/lib/python3.7/dist-packages (from contractions) (0.0.21)\n",
            "Requirement already satisfied: pyahocorasick in /usr/local/lib/python3.7/dist-packages (from textsearch>=0.0.21->contractions) (1.4.4)\n",
            "Requirement already satisfied: anyascii in /usr/local/lib/python3.7/dist-packages (from textsearch>=0.0.21->contractions) (0.3.1)\n"
          ]
        }
      ]
    },
    {
      "cell_type": "code",
      "execution_count": 28,
      "metadata": {
        "id": "I2hJJRZoO7zs",
        "colab": {
          "base_uri": "https://localhost:8080/"
        },
        "outputId": "a285a03f-88e3-45b6-e87e-1a92a8a8acc8"
      },
      "outputs": [
        {
          "output_type": "stream",
          "name": "stdout",
          "text": [
            "[nltk_data] Downloading package stopwords to /root/nltk_data...\n",
            "[nltk_data]   Package stopwords is already up-to-date!\n"
          ]
        },
        {
          "output_type": "stream",
          "name": "stderr",
          "text": [
            "/usr/local/lib/python3.7/dist-packages/ipykernel_launcher.py:2: FutureWarning: Passing a negative integer is deprecated in version 1.0 and will not be supported in future version. Instead, use None to not limit the column width.\n",
            "  \n"
          ]
        }
      ],
      "source": [
        "import pandas as pd\n",
        "pd.set_option('display.max_colwidth', -1)  # to view entire text in any column\n",
        "import numpy as np\n",
        "import random\n",
        "import matplotlib.pyplot as plt\n",
        "%matplotlib inline\n",
        "import seaborn as sns\n",
        "import re\n",
        "import string\n",
        "import gzip\n",
        "from pprint import pprint\n",
        "\n",
        "from bs4 import BeautifulSoup\n",
        "import nltk\n",
        "nltk.download('stopwords')\n",
        "from nltk import FreqDist\n",
        "#nltk.download('stopwords') # run this line only once\n",
        "from nltk.corpus import stopwords\n",
        "# from nltk.stem.wordnet import WordNetLemmatizer  # alternative lemmatizer\n",
        "# lemma = WordNetLemmatizer()\n",
        "\n",
        "import spacy\n",
        "\n",
        "\n",
        "\n",
        "import warnings\n",
        "warnings.filterwarnings(\"ignore\",category=DeprecationWarning)  # suppressing deprecation warnings when running gensim LDA\n",
        "\n",
        "# from specialmaps import HTML_MAP # for manual cleaning of HTML entities, not used\n",
        "# from specialmaps import CONTRACTION_MAP\n",
        "from collections import defaultdict\n",
        "import contractions\n",
        "# from contractions import CONTRACTION_MAP\n"
      ]
    },
    {
      "cell_type": "code",
      "source": [
        "headphone_df = pd.read_csv(\"https://raw.githubusercontent.com/sanjeevhm/BDAProject/binary_classification/Headphone_df.csv\")"
      ],
      "metadata": {
        "id": "f0QNWvMGQ5mU"
      },
      "execution_count": 29,
      "outputs": []
    },
    {
      "cell_type": "code",
      "source": [
        "headphone_df.head()"
      ],
      "metadata": {
        "colab": {
          "base_uri": "https://localhost:8080/",
          "height": 511
        },
        "id": "xlA2MnoTVCGM",
        "outputId": "4b6eacc0-a684-4c62-f574-0bf3c94eb969"
      },
      "execution_count": 30,
      "outputs": [
        {
          "output_type": "execute_result",
          "data": {
            "text/plain": [
              "   Unnamed: 0  Unnamed: 0.1  product_id  \\\n",
              "0  46          46            B003EM6AQE   \n",
              "1  332         332           B003EM8008   \n",
              "2  367         367           B003EM6AOG   \n",
              "3  403         403           B00E4LGVUO   \n",
              "4  567         567           B003EM8008   \n",
              "\n",
              "                                product_tite  star_rating  \\\n",
              "0  Panasonic ErgoFit In-Ear Earbud Headphone  5             \n",
              "1  Panasonic ErgoFit In-Ear Earbud Headphone  5             \n",
              "2  Panasonic ErgoFit In-Ear Earbud Headphone  5             \n",
              "3  Panasonic ErgoFit In-Ear Earbud Headphone  5             \n",
              "4  Panasonic ErgoFit In-Ear Earbud Headphone  5             \n",
              "\n",
              "             review_headline  \\\n",
              "0  Great In-Ear Headphones!    \n",
              "1  Good quality head phones!   \n",
              "2  Not bad at all!             \n",
              "3  Five Stars                  \n",
              "4  I love these!               \n",
              "\n",
              "                                                                                                                                                                                                                                                                                                                                                                             review_body  \\\n",
              "0  I LOVE THESE HEADPHONES! I am totally satisfied with the sound and the fact that they stay in my ears! They are great...and I love the color of course. :)                                                                                                                                                                                                                              \n",
              "1  Probably the best earphones ever. Better than the Apple ones, I just wished that it had a mic on it, but these will last you a long time. Just ordered my second pair (since my first one got stolen) I had these for about 5 months and it still was in good condition before someone took it. Definitely would recommend and continue to repurchase these. Also, fast shipping too.   \n",
              "2  Great headphones, I mean they aren't going to blow your mind or anything, but they really work perfectly for the price you pay and for what they are .. these work so nicely for me when I'm trying to do some work and need outside sounds blocked out and I just want to hear the video I'm watching or the music I'm listening to.                                                   \n",
              "3  I love them for their price and quality.                                                                                                                                                                                                                                                                                                                                                \n",
              "4  I love these earphones! They're very good for the price which is cheap.                                                                                                                                                                                                                                                                                                                 \n",
              "\n",
              "  review_date  \n",
              "0  2015-08-31  \n",
              "1  2015-08-31  \n",
              "2  2015-08-31  \n",
              "3  2015-08-31  \n",
              "4  2015-08-31  "
            ],
            "text/html": [
              "\n",
              "  <div id=\"df-1334ee6f-cd5e-4a89-9a7d-57b08d128c14\">\n",
              "    <div class=\"colab-df-container\">\n",
              "      <div>\n",
              "<style scoped>\n",
              "    .dataframe tbody tr th:only-of-type {\n",
              "        vertical-align: middle;\n",
              "    }\n",
              "\n",
              "    .dataframe tbody tr th {\n",
              "        vertical-align: top;\n",
              "    }\n",
              "\n",
              "    .dataframe thead th {\n",
              "        text-align: right;\n",
              "    }\n",
              "</style>\n",
              "<table border=\"1\" class=\"dataframe\">\n",
              "  <thead>\n",
              "    <tr style=\"text-align: right;\">\n",
              "      <th></th>\n",
              "      <th>Unnamed: 0</th>\n",
              "      <th>Unnamed: 0.1</th>\n",
              "      <th>product_id</th>\n",
              "      <th>product_tite</th>\n",
              "      <th>star_rating</th>\n",
              "      <th>review_headline</th>\n",
              "      <th>review_body</th>\n",
              "      <th>review_date</th>\n",
              "    </tr>\n",
              "  </thead>\n",
              "  <tbody>\n",
              "    <tr>\n",
              "      <th>0</th>\n",
              "      <td>46</td>\n",
              "      <td>46</td>\n",
              "      <td>B003EM6AQE</td>\n",
              "      <td>Panasonic ErgoFit In-Ear Earbud Headphone</td>\n",
              "      <td>5</td>\n",
              "      <td>Great In-Ear Headphones!</td>\n",
              "      <td>I LOVE THESE HEADPHONES! I am totally satisfied with the sound and the fact that they stay in my ears! They are great...and I love the color of course. :)</td>\n",
              "      <td>2015-08-31</td>\n",
              "    </tr>\n",
              "    <tr>\n",
              "      <th>1</th>\n",
              "      <td>332</td>\n",
              "      <td>332</td>\n",
              "      <td>B003EM8008</td>\n",
              "      <td>Panasonic ErgoFit In-Ear Earbud Headphone</td>\n",
              "      <td>5</td>\n",
              "      <td>Good quality head phones!</td>\n",
              "      <td>Probably the best earphones ever. Better than the Apple ones, I just wished that it had a mic on it, but these will last you a long time. Just ordered my second pair (since my first one got stolen) I had these for about 5 months and it still was in good condition before someone took it. Definitely would recommend and continue to repurchase these. Also, fast shipping too.</td>\n",
              "      <td>2015-08-31</td>\n",
              "    </tr>\n",
              "    <tr>\n",
              "      <th>2</th>\n",
              "      <td>367</td>\n",
              "      <td>367</td>\n",
              "      <td>B003EM6AOG</td>\n",
              "      <td>Panasonic ErgoFit In-Ear Earbud Headphone</td>\n",
              "      <td>5</td>\n",
              "      <td>Not bad at all!</td>\n",
              "      <td>Great headphones, I mean they aren't going to blow your mind or anything, but they really work perfectly for the price you pay and for what they are .. these work so nicely for me when I'm trying to do some work and need outside sounds blocked out and I just want to hear the video I'm watching or the music I'm listening to.</td>\n",
              "      <td>2015-08-31</td>\n",
              "    </tr>\n",
              "    <tr>\n",
              "      <th>3</th>\n",
              "      <td>403</td>\n",
              "      <td>403</td>\n",
              "      <td>B00E4LGVUO</td>\n",
              "      <td>Panasonic ErgoFit In-Ear Earbud Headphone</td>\n",
              "      <td>5</td>\n",
              "      <td>Five Stars</td>\n",
              "      <td>I love them for their price and quality.</td>\n",
              "      <td>2015-08-31</td>\n",
              "    </tr>\n",
              "    <tr>\n",
              "      <th>4</th>\n",
              "      <td>567</td>\n",
              "      <td>567</td>\n",
              "      <td>B003EM8008</td>\n",
              "      <td>Panasonic ErgoFit In-Ear Earbud Headphone</td>\n",
              "      <td>5</td>\n",
              "      <td>I love these!</td>\n",
              "      <td>I love these earphones! They're very good for the price which is cheap.</td>\n",
              "      <td>2015-08-31</td>\n",
              "    </tr>\n",
              "  </tbody>\n",
              "</table>\n",
              "</div>\n",
              "      <button class=\"colab-df-convert\" onclick=\"convertToInteractive('df-1334ee6f-cd5e-4a89-9a7d-57b08d128c14')\"\n",
              "              title=\"Convert this dataframe to an interactive table.\"\n",
              "              style=\"display:none;\">\n",
              "        \n",
              "  <svg xmlns=\"http://www.w3.org/2000/svg\" height=\"24px\"viewBox=\"0 0 24 24\"\n",
              "       width=\"24px\">\n",
              "    <path d=\"M0 0h24v24H0V0z\" fill=\"none\"/>\n",
              "    <path d=\"M18.56 5.44l.94 2.06.94-2.06 2.06-.94-2.06-.94-.94-2.06-.94 2.06-2.06.94zm-11 1L8.5 8.5l.94-2.06 2.06-.94-2.06-.94L8.5 2.5l-.94 2.06-2.06.94zm10 10l.94 2.06.94-2.06 2.06-.94-2.06-.94-.94-2.06-.94 2.06-2.06.94z\"/><path d=\"M17.41 7.96l-1.37-1.37c-.4-.4-.92-.59-1.43-.59-.52 0-1.04.2-1.43.59L10.3 9.45l-7.72 7.72c-.78.78-.78 2.05 0 2.83L4 21.41c.39.39.9.59 1.41.59.51 0 1.02-.2 1.41-.59l7.78-7.78 2.81-2.81c.8-.78.8-2.07 0-2.86zM5.41 20L4 18.59l7.72-7.72 1.47 1.35L5.41 20z\"/>\n",
              "  </svg>\n",
              "      </button>\n",
              "      \n",
              "  <style>\n",
              "    .colab-df-container {\n",
              "      display:flex;\n",
              "      flex-wrap:wrap;\n",
              "      gap: 12px;\n",
              "    }\n",
              "\n",
              "    .colab-df-convert {\n",
              "      background-color: #E8F0FE;\n",
              "      border: none;\n",
              "      border-radius: 50%;\n",
              "      cursor: pointer;\n",
              "      display: none;\n",
              "      fill: #1967D2;\n",
              "      height: 32px;\n",
              "      padding: 0 0 0 0;\n",
              "      width: 32px;\n",
              "    }\n",
              "\n",
              "    .colab-df-convert:hover {\n",
              "      background-color: #E2EBFA;\n",
              "      box-shadow: 0px 1px 2px rgba(60, 64, 67, 0.3), 0px 1px 3px 1px rgba(60, 64, 67, 0.15);\n",
              "      fill: #174EA6;\n",
              "    }\n",
              "\n",
              "    [theme=dark] .colab-df-convert {\n",
              "      background-color: #3B4455;\n",
              "      fill: #D2E3FC;\n",
              "    }\n",
              "\n",
              "    [theme=dark] .colab-df-convert:hover {\n",
              "      background-color: #434B5C;\n",
              "      box-shadow: 0px 1px 3px 1px rgba(0, 0, 0, 0.15);\n",
              "      filter: drop-shadow(0px 1px 2px rgba(0, 0, 0, 0.3));\n",
              "      fill: #FFFFFF;\n",
              "    }\n",
              "  </style>\n",
              "\n",
              "      <script>\n",
              "        const buttonEl =\n",
              "          document.querySelector('#df-1334ee6f-cd5e-4a89-9a7d-57b08d128c14 button.colab-df-convert');\n",
              "        buttonEl.style.display =\n",
              "          google.colab.kernel.accessAllowed ? 'block' : 'none';\n",
              "\n",
              "        async function convertToInteractive(key) {\n",
              "          const element = document.querySelector('#df-1334ee6f-cd5e-4a89-9a7d-57b08d128c14');\n",
              "          const dataTable =\n",
              "            await google.colab.kernel.invokeFunction('convertToInteractive',\n",
              "                                                     [key], {});\n",
              "          if (!dataTable) return;\n",
              "\n",
              "          const docLinkHtml = 'Like what you see? Visit the ' +\n",
              "            '<a target=\"_blank\" href=https://colab.research.google.com/notebooks/data_table.ipynb>data table notebook</a>'\n",
              "            + ' to learn more about interactive tables.';\n",
              "          element.innerHTML = '';\n",
              "          dataTable['output_type'] = 'display_data';\n",
              "          await google.colab.output.renderOutput(dataTable, element);\n",
              "          const docLink = document.createElement('div');\n",
              "          docLink.innerHTML = docLinkHtml;\n",
              "          element.appendChild(docLink);\n",
              "        }\n",
              "      </script>\n",
              "    </div>\n",
              "  </div>\n",
              "  "
            ]
          },
          "metadata": {},
          "execution_count": 30
        }
      ]
    },
    {
      "cell_type": "code",
      "source": [
        "headphone_df = headphone_df.drop(['Unnamed: 0', 'Unnamed: 0.1'],axis=1)"
      ],
      "metadata": {
        "id": "anpmgYF5VED4"
      },
      "execution_count": 31,
      "outputs": []
    },
    {
      "cell_type": "code",
      "source": [
        "headphone_df.head()"
      ],
      "metadata": {
        "colab": {
          "base_uri": "https://localhost:8080/",
          "height": 458
        },
        "id": "6xkMSVKVVS1h",
        "outputId": "2bcf1f31-f416-4057-ed4a-f7657a920df9"
      },
      "execution_count": 32,
      "outputs": [
        {
          "output_type": "execute_result",
          "data": {
            "text/plain": [
              "   product_id                               product_tite  star_rating  \\\n",
              "0  B003EM6AQE  Panasonic ErgoFit In-Ear Earbud Headphone  5             \n",
              "1  B003EM8008  Panasonic ErgoFit In-Ear Earbud Headphone  5             \n",
              "2  B003EM6AOG  Panasonic ErgoFit In-Ear Earbud Headphone  5             \n",
              "3  B00E4LGVUO  Panasonic ErgoFit In-Ear Earbud Headphone  5             \n",
              "4  B003EM8008  Panasonic ErgoFit In-Ear Earbud Headphone  5             \n",
              "\n",
              "             review_headline  \\\n",
              "0  Great In-Ear Headphones!    \n",
              "1  Good quality head phones!   \n",
              "2  Not bad at all!             \n",
              "3  Five Stars                  \n",
              "4  I love these!               \n",
              "\n",
              "                                                                                                                                                                                                                                                                                                                                                                             review_body  \\\n",
              "0  I LOVE THESE HEADPHONES! I am totally satisfied with the sound and the fact that they stay in my ears! They are great...and I love the color of course. :)                                                                                                                                                                                                                              \n",
              "1  Probably the best earphones ever. Better than the Apple ones, I just wished that it had a mic on it, but these will last you a long time. Just ordered my second pair (since my first one got stolen) I had these for about 5 months and it still was in good condition before someone took it. Definitely would recommend and continue to repurchase these. Also, fast shipping too.   \n",
              "2  Great headphones, I mean they aren't going to blow your mind or anything, but they really work perfectly for the price you pay and for what they are .. these work so nicely for me when I'm trying to do some work and need outside sounds blocked out and I just want to hear the video I'm watching or the music I'm listening to.                                                   \n",
              "3  I love them for their price and quality.                                                                                                                                                                                                                                                                                                                                                \n",
              "4  I love these earphones! They're very good for the price which is cheap.                                                                                                                                                                                                                                                                                                                 \n",
              "\n",
              "  review_date  \n",
              "0  2015-08-31  \n",
              "1  2015-08-31  \n",
              "2  2015-08-31  \n",
              "3  2015-08-31  \n",
              "4  2015-08-31  "
            ],
            "text/html": [
              "\n",
              "  <div id=\"df-31757485-e843-4f11-9a5a-fd5341505e07\">\n",
              "    <div class=\"colab-df-container\">\n",
              "      <div>\n",
              "<style scoped>\n",
              "    .dataframe tbody tr th:only-of-type {\n",
              "        vertical-align: middle;\n",
              "    }\n",
              "\n",
              "    .dataframe tbody tr th {\n",
              "        vertical-align: top;\n",
              "    }\n",
              "\n",
              "    .dataframe thead th {\n",
              "        text-align: right;\n",
              "    }\n",
              "</style>\n",
              "<table border=\"1\" class=\"dataframe\">\n",
              "  <thead>\n",
              "    <tr style=\"text-align: right;\">\n",
              "      <th></th>\n",
              "      <th>product_id</th>\n",
              "      <th>product_tite</th>\n",
              "      <th>star_rating</th>\n",
              "      <th>review_headline</th>\n",
              "      <th>review_body</th>\n",
              "      <th>review_date</th>\n",
              "    </tr>\n",
              "  </thead>\n",
              "  <tbody>\n",
              "    <tr>\n",
              "      <th>0</th>\n",
              "      <td>B003EM6AQE</td>\n",
              "      <td>Panasonic ErgoFit In-Ear Earbud Headphone</td>\n",
              "      <td>5</td>\n",
              "      <td>Great In-Ear Headphones!</td>\n",
              "      <td>I LOVE THESE HEADPHONES! I am totally satisfied with the sound and the fact that they stay in my ears! They are great...and I love the color of course. :)</td>\n",
              "      <td>2015-08-31</td>\n",
              "    </tr>\n",
              "    <tr>\n",
              "      <th>1</th>\n",
              "      <td>B003EM8008</td>\n",
              "      <td>Panasonic ErgoFit In-Ear Earbud Headphone</td>\n",
              "      <td>5</td>\n",
              "      <td>Good quality head phones!</td>\n",
              "      <td>Probably the best earphones ever. Better than the Apple ones, I just wished that it had a mic on it, but these will last you a long time. Just ordered my second pair (since my first one got stolen) I had these for about 5 months and it still was in good condition before someone took it. Definitely would recommend and continue to repurchase these. Also, fast shipping too.</td>\n",
              "      <td>2015-08-31</td>\n",
              "    </tr>\n",
              "    <tr>\n",
              "      <th>2</th>\n",
              "      <td>B003EM6AOG</td>\n",
              "      <td>Panasonic ErgoFit In-Ear Earbud Headphone</td>\n",
              "      <td>5</td>\n",
              "      <td>Not bad at all!</td>\n",
              "      <td>Great headphones, I mean they aren't going to blow your mind or anything, but they really work perfectly for the price you pay and for what they are .. these work so nicely for me when I'm trying to do some work and need outside sounds blocked out and I just want to hear the video I'm watching or the music I'm listening to.</td>\n",
              "      <td>2015-08-31</td>\n",
              "    </tr>\n",
              "    <tr>\n",
              "      <th>3</th>\n",
              "      <td>B00E4LGVUO</td>\n",
              "      <td>Panasonic ErgoFit In-Ear Earbud Headphone</td>\n",
              "      <td>5</td>\n",
              "      <td>Five Stars</td>\n",
              "      <td>I love them for their price and quality.</td>\n",
              "      <td>2015-08-31</td>\n",
              "    </tr>\n",
              "    <tr>\n",
              "      <th>4</th>\n",
              "      <td>B003EM8008</td>\n",
              "      <td>Panasonic ErgoFit In-Ear Earbud Headphone</td>\n",
              "      <td>5</td>\n",
              "      <td>I love these!</td>\n",
              "      <td>I love these earphones! They're very good for the price which is cheap.</td>\n",
              "      <td>2015-08-31</td>\n",
              "    </tr>\n",
              "  </tbody>\n",
              "</table>\n",
              "</div>\n",
              "      <button class=\"colab-df-convert\" onclick=\"convertToInteractive('df-31757485-e843-4f11-9a5a-fd5341505e07')\"\n",
              "              title=\"Convert this dataframe to an interactive table.\"\n",
              "              style=\"display:none;\">\n",
              "        \n",
              "  <svg xmlns=\"http://www.w3.org/2000/svg\" height=\"24px\"viewBox=\"0 0 24 24\"\n",
              "       width=\"24px\">\n",
              "    <path d=\"M0 0h24v24H0V0z\" fill=\"none\"/>\n",
              "    <path d=\"M18.56 5.44l.94 2.06.94-2.06 2.06-.94-2.06-.94-.94-2.06-.94 2.06-2.06.94zm-11 1L8.5 8.5l.94-2.06 2.06-.94-2.06-.94L8.5 2.5l-.94 2.06-2.06.94zm10 10l.94 2.06.94-2.06 2.06-.94-2.06-.94-.94-2.06-.94 2.06-2.06.94z\"/><path d=\"M17.41 7.96l-1.37-1.37c-.4-.4-.92-.59-1.43-.59-.52 0-1.04.2-1.43.59L10.3 9.45l-7.72 7.72c-.78.78-.78 2.05 0 2.83L4 21.41c.39.39.9.59 1.41.59.51 0 1.02-.2 1.41-.59l7.78-7.78 2.81-2.81c.8-.78.8-2.07 0-2.86zM5.41 20L4 18.59l7.72-7.72 1.47 1.35L5.41 20z\"/>\n",
              "  </svg>\n",
              "      </button>\n",
              "      \n",
              "  <style>\n",
              "    .colab-df-container {\n",
              "      display:flex;\n",
              "      flex-wrap:wrap;\n",
              "      gap: 12px;\n",
              "    }\n",
              "\n",
              "    .colab-df-convert {\n",
              "      background-color: #E8F0FE;\n",
              "      border: none;\n",
              "      border-radius: 50%;\n",
              "      cursor: pointer;\n",
              "      display: none;\n",
              "      fill: #1967D2;\n",
              "      height: 32px;\n",
              "      padding: 0 0 0 0;\n",
              "      width: 32px;\n",
              "    }\n",
              "\n",
              "    .colab-df-convert:hover {\n",
              "      background-color: #E2EBFA;\n",
              "      box-shadow: 0px 1px 2px rgba(60, 64, 67, 0.3), 0px 1px 3px 1px rgba(60, 64, 67, 0.15);\n",
              "      fill: #174EA6;\n",
              "    }\n",
              "\n",
              "    [theme=dark] .colab-df-convert {\n",
              "      background-color: #3B4455;\n",
              "      fill: #D2E3FC;\n",
              "    }\n",
              "\n",
              "    [theme=dark] .colab-df-convert:hover {\n",
              "      background-color: #434B5C;\n",
              "      box-shadow: 0px 1px 3px 1px rgba(0, 0, 0, 0.15);\n",
              "      filter: drop-shadow(0px 1px 2px rgba(0, 0, 0, 0.3));\n",
              "      fill: #FFFFFF;\n",
              "    }\n",
              "  </style>\n",
              "\n",
              "      <script>\n",
              "        const buttonEl =\n",
              "          document.querySelector('#df-31757485-e843-4f11-9a5a-fd5341505e07 button.colab-df-convert');\n",
              "        buttonEl.style.display =\n",
              "          google.colab.kernel.accessAllowed ? 'block' : 'none';\n",
              "\n",
              "        async function convertToInteractive(key) {\n",
              "          const element = document.querySelector('#df-31757485-e843-4f11-9a5a-fd5341505e07');\n",
              "          const dataTable =\n",
              "            await google.colab.kernel.invokeFunction('convertToInteractive',\n",
              "                                                     [key], {});\n",
              "          if (!dataTable) return;\n",
              "\n",
              "          const docLinkHtml = 'Like what you see? Visit the ' +\n",
              "            '<a target=\"_blank\" href=https://colab.research.google.com/notebooks/data_table.ipynb>data table notebook</a>'\n",
              "            + ' to learn more about interactive tables.';\n",
              "          element.innerHTML = '';\n",
              "          dataTable['output_type'] = 'display_data';\n",
              "          await google.colab.output.renderOutput(dataTable, element);\n",
              "          const docLink = document.createElement('div');\n",
              "          docLink.innerHTML = docLinkHtml;\n",
              "          element.appendChild(docLink);\n",
              "        }\n",
              "      </script>\n",
              "    </div>\n",
              "  </div>\n",
              "  "
            ]
          },
          "metadata": {},
          "execution_count": 32
        }
      ]
    },
    {
      "cell_type": "code",
      "source": [
        "# function to plot most frequent terms. This is used to gauge the quality of text processing\n",
        "def freq_words(x, terms = 30):\n",
        "  all_words = ' '.join([text for text in x])\n",
        "  all_words = all_words.split()\n",
        "\n",
        "  fdist = FreqDist(all_words)\n",
        "  words_df = pd.DataFrame({'word':list(fdist.keys()), 'count':list(fdist.values())})\n",
        "\n",
        "  # selecting top n most frequent words\n",
        "  d = words_df.nlargest(columns=\"count\", n = terms) \n",
        "  plt.figure(figsize=(20,5))\n",
        "  ax = sns.barplot(data=d, x= \"word\", y = \"count\")\n",
        "  ax.set(ylabel = 'Count')\n",
        "  plt.show()"
      ],
      "metadata": {
        "id": "7O1J2hdCV9ch"
      },
      "execution_count": 33,
      "outputs": []
    },
    {
      "cell_type": "code",
      "source": [
        "freq_words(list(headphone_df['review_body']))"
      ],
      "metadata": {
        "colab": {
          "base_uri": "https://localhost:8080/",
          "height": 334
        },
        "id": "2cLzLNnofwea",
        "outputId": "2bd232e4-0a29-4b21-e0d5-467aa45c441c"
      },
      "execution_count": 34,
      "outputs": [
        {
          "output_type": "display_data",
          "data": {
            "text/plain": [
              "<Figure size 1440x360 with 1 Axes>"
            ],
            "image/png": "[encoded data removed]"
          },
          "metadata": {
            "needs_background": "light"
          }
        }
      ]
    },
    {
      "cell_type": "code",
      "source": [
        "def html_tag_remove(text):\n",
        "    return BeautifulSoup(text, \"html.parser\").get_text()\n",
        "\n",
        "def expand_contractions(text):    \n",
        "    expanded_text = contractions.fix(text)\n",
        "    return expanded_text\n",
        "\n",
        "punc_char = set(string.punctuation)\n",
        "\n",
        "def remove_punctuation(rev):\n",
        "    return ''.join([ch for ch in rev if ch not in punc_char])\n",
        "\n",
        "stop_words = stopwords.words('english')\n",
        "stop_words.extend(['headset','bluetooth','headphone','headphones'])  \n",
        "\n",
        "def remove_stopwords(rev):\n",
        "    # rev is a review text, one string\n",
        "    rev_new = \" \".join([i for i in rev.split() if i not in stop_words])\n",
        "    return rev_new\n",
        "\n",
        "nlp = spacy.load('en', disable=['parser', 'ner'])\n",
        "\n",
        "def lemmatization(rev): \n",
        "    # lemmatize input string rev, i.e. reduce all forms of a word to the lemma\n",
        "    doc = nlp(\" \".join(rev.split()))\n",
        "    return \" \".join([token.lemma_ for token in doc])\n",
        "\n",
        "def lemmatization_tag(rev, tags = ['NOUN', 'ADJ']): # filter noun and adjective\n",
        "    doc = nlp(\" \".join(rev.split()))\n",
        "    return \" \".join([token.lemma_ for token in doc if token.pos_ in tags])\n",
        "\n",
        "def remove_num(s):\n",
        "    # s is a string, e.g. an entire review text\n",
        "    return ''.join([i for i in s if not i.isdigit()])"
      ],
      "metadata": {
        "id": "R2ATVoV8g7Hp"
      },
      "execution_count": 35,
      "outputs": []
    },
    {
      "cell_type": "code",
      "source": [
        "headphone_df.loc[:,'review_no_html'] = headphone_df['review_body'].apply(html_tag_remove)\n",
        "headphone_df.loc[:,'review_no_html'] = headphone_df['review_no_html'].apply(html_tag_remove)"
      ],
      "metadata": {
        "id": "YCn9mPFxf14c"
      },
      "execution_count": 36,
      "outputs": []
    },
    {
      "cell_type": "code",
      "source": [
        "headphone_df['review_no_html'].sample(5)"
      ],
      "metadata": {
        "colab": {
          "base_uri": "https://localhost:8080/"
        },
        "id": "FM0shMKvkEhh",
        "outputId": "a22e5e3d-f15f-49ba-c83b-c66d23722fbf"
      },
      "execution_count": 37,
      "outputs": [
        {
          "output_type": "execute_result",
          "data": {
            "text/plain": [
              "21239    I'll start off by saying that I HATE EARBUDS!! I have oddly shaped ears so I generally use actual headphones. However, as a college student, I needed something more versatile and less heavy, also something easy to put away and take out quick. So I bought earbuds.The Good:-The color. It's nice and pink, just as shown.-The sound--ish. They sound pretty good. Not amazing, but not horrible. (keep in mind you'll be paying under 10 bucks, not 50 so you can expect less than amazing quality)-They stay in the jack. My other headphones always slip from my phone jack. These haven't slipped ONCE, which is great.The Bad:-The odd shape that's supposed to go in your ear. Don't be fooled (like I was) the round clearish-gray bulb you see to the left of the pink back on the earbud IS NOT ROUND, it is oblong shaped. The clear plastic (oblong shaped) bulb comes off and they give you 2 other sizes (3 sizes. Large, medium, small) I'm using the small ones because I have oddly shaped ears. They don't really sit in my ears right, if it's windy, they will fall out my ear. It's pretty difficult for me to get them in my ears right.-If you want earbuds that you can blast without people hearing you listening to the Pokemon theme song, you might not want these. People can hear what you're listening to. I tried them at different levels and asked my sister if she could name the songs I'm listening to. She named just about everything, just not when it was ridiculously low.Overall, I don't like them. They have amazing reviews so maybe it's just me; keep in mind that I already hate earbuds and have irregular shaped ears. If you really want to try them, by all means, do it! It's not the end of the world; they're pretty cheap.\n",
              "13196    Great! Sound quality is profound and price is very reasonable. Only complain that I have is that it is not big enough for my ear hole. They do give three different sizes for the pads but the biggest one still does not fit me very well. I hope that the tip of the headphone can be a little long to fit in securely so that I can use this while I am running as well. Overall, it is an excellent buy with a great price.                                                                                                                                                                                                                                                                                                                                                                                                                                                                                                                                                                                                                                                                                                                                                                                                                                                                                                                                                                                                                                                                                                                                                                                                                                                                                                                                                       \n",
              "16471    The headphones are pretty nice sounding.  Only thing I don't like are the wires.  I guess I am used to Apples better rubber cables that don't get as tangled.                                                                                                                                                                                                                                                                                                                                                                                                                                                                                                                                                                                                                                                                                                                                                                                                                                                                                                                                                                                                                                                                                                                                                                                                                                                                                                                                                                                                                                                                                                                                                                                                                         \n",
              "495      Waste of money. I read so many reviews from various sources that rated these as 4 out of 5 stars, so I went to find out for myself. In my opinion, only a tone deaf individual would consider these anywhere near acceptable let alone good. They are very tinny sounding and drain more energy to get the drivers started. The wires are made of a cheap, very thin plastic. Please, do not waste your money, buy a more quality set of buds.                                                                                                                                                                                                                                                                                                                                                                                                                                                                                                                                                                                                                                                                                                                                                                                                                                                                                                                                                                                                                                                                                                                                                                                                                                                                                                                                        \n",
              "4580     I love these! I might buy another pair. I've had them for about a year and have had no problems. I usually have trouble with the earbud type fitting in my ears, staying in, and being comfortable. These are perfect. Only ones I've ever found that work for me. :)                                                                                                                                                                                                                                                                                                                                                                                                                                                                                                                                                                                                                                                                                                                                                                                                                                                                                                                                                                                                                                                                                                                                                                                                                                                                                                                                                                                                                                                                                                                 \n",
              "Name: review_no_html, dtype: object"
            ]
          },
          "metadata": {},
          "execution_count": 37
        }
      ]
    },
    {
      "cell_type": "code",
      "source": [
        "\n",
        "headphone_df.loc[:,'review_no_contraction'] = headphone_df['review_no_html'].apply(expand_contractions)\n",
        "print(headphone_df['review_no_html'].sample(n=5, random_state = 0))\n",
        "print(\"\\n\")\n",
        "print(headphone_df['review_no_contraction'].sample(n=5, random_state = 0))"
      ],
      "metadata": {
        "colab": {
          "base_uri": "https://localhost:8080/"
        },
        "id": "gXUD-AiSkIDW",
        "outputId": "ee5494b8-ae17-4411-ba20-71004a439b2a"
      },
      "execution_count": 38,
      "outputs": [
        {
          "output_type": "stream",
          "name": "stdout",
          "text": [
            "11911    I use these to listen to TV at night and work perfect. They stay in my ears where the pods did not.                                                                                  \n",
            "20044    The sound is ok but at least they stay in my ears which is more than can be said for most ear buds.                                                                                  \n",
            "10425    perfect                                                                                                                                                                              \n",
            "8307     Use the for the gym; good sound quality for the price.                                                                                                                               \n",
            "12307    Volume is a little low, but fidelity is high.  I use this to listen to audiobooks when on the street.The construction is very durable; the cable cover is wound and seems very tough.\n",
            "Name: review_no_html, dtype: object\n",
            "\n",
            "\n",
            "11911    I use these to listen to TV at night and work perfect. They stay in my ears where the pods did not.                                                                                  \n",
            "20044    The sound is ok but at least they stay in my ears which is more than can be said for most ear buds.                                                                                  \n",
            "10425    perfect                                                                                                                                                                              \n",
            "8307     Use the for the gym; good sound quality for the price.                                                                                                                               \n",
            "12307    Volume is a little low, but fidelity is high.  I use this to listen to audiobooks when on the street.The construction is very durable; the cable cover is wound and seems very tough.\n",
            "Name: review_no_contraction, dtype: object\n"
          ]
        }
      ]
    },
    {
      "cell_type": "code",
      "source": [
        "headphone_df.loc[:,'review_no_punc'] = [remove_punctuation(r) for r in headphone_df['review_no_contraction']]"
      ],
      "metadata": {
        "id": "OwIamPCflunL"
      },
      "execution_count": 39,
      "outputs": []
    },
    {
      "cell_type": "code",
      "source": [
        "headphone_df.loc[:,'review_no_stopwords'] = [remove_stopwords(r.lower()) for r in headphone_df['review_no_punc']]\n"
      ],
      "metadata": {
        "id": "L7wVMJL3mEgA"
      },
      "execution_count": 40,
      "outputs": []
    },
    {
      "cell_type": "code",
      "source": [
        "print(headphone_df['review_body'].sample(n=5, random_state = 0),'\\n')\n",
        "print(headphone_df['review_no_punc'].sample(n=5, random_state = 0),'\\n')\n",
        "print(headphone_df['review_no_stopwords'].sample(n=5, random_state = 0),'\\n')"
      ],
      "metadata": {
        "colab": {
          "base_uri": "https://localhost:8080/"
        },
        "id": "66WP_08ZmJUy",
        "outputId": "5438db8c-14ec-4055-d136-e288f730baaa"
      },
      "execution_count": 41,
      "outputs": [
        {
          "output_type": "stream",
          "name": "stdout",
          "text": [
            "11911    I use these to listen to TV at night and work perfect. They stay in my ears where the pods did not.                                                                                        \n",
            "20044    The sound is ok but at least they stay in my ears which is more than can be said for most ear buds.                                                                                        \n",
            "10425    perfect                                                                                                                                                                                    \n",
            "8307     Use the for the gym; good sound quality for the price.                                                                                                                                     \n",
            "12307    Volume is a little low, but fidelity is high.  I use this to listen to audiobooks when on the street.<br />The construction is very durable; the cable cover is wound and seems very tough.\n",
            "Name: review_body, dtype: object \n",
            "\n",
            "11911    I use these to listen to TV at night and work perfect They stay in my ears where the pods did not                                                                               \n",
            "20044    The sound is ok but at least they stay in my ears which is more than can be said for most ear buds                                                                              \n",
            "10425    perfect                                                                                                                                                                         \n",
            "8307     Use the for the gym good sound quality for the price                                                                                                                            \n",
            "12307    Volume is a little low but fidelity is high  I use this to listen to audiobooks when on the streetThe construction is very durable the cable cover is wound and seems very tough\n",
            "Name: review_no_punc, dtype: object \n",
            "\n",
            "11911    use listen tv night work perfect stay ears pods                                                                   \n",
            "20044    sound ok least stay ears said ear buds                                                                            \n",
            "10425    perfect                                                                                                           \n",
            "8307     use gym good sound quality price                                                                                  \n",
            "12307    volume little low fidelity high use listen audiobooks streetthe construction durable cable cover wound seems tough\n",
            "Name: review_no_stopwords, dtype: object \n",
            "\n"
          ]
        }
      ]
    },
    {
      "cell_type": "code",
      "source": [
        "freq_words(headphone_df['review_no_stopwords'])"
      ],
      "metadata": {
        "colab": {
          "base_uri": "https://localhost:8080/",
          "height": 334
        },
        "id": "WcOxwsjamSZ6",
        "outputId": "fad84809-3eaa-4852-93b7-1500aee6ca36"
      },
      "execution_count": 42,
      "outputs": [
        {
          "output_type": "display_data",
          "data": {
            "text/plain": [
              "<Figure size 1440x360 with 1 Axes>"
            ],
            "image/png": "[encoded data removed]"
          },
          "metadata": {
            "needs_background": "light"
          }
        }
      ]
    },
    {
      "cell_type": "code",
      "source": [
        "# lemmatize, this is a relatively slow preprocessing step \n",
        "headphone_df.loc[:,'review_lemmatized'] = headphone_df['review_no_stopwords'].apply(lemmatization)"
      ],
      "metadata": {
        "id": "3WAJAm4pmV--"
      },
      "execution_count": 43,
      "outputs": []
    },
    {
      "cell_type": "code",
      "source": [
        "# run remove stop words again because the lemmatization process generates more stop words\n",
        "headphone_df.loc[:,'review_lemmatized'] = headphone_df['review_lemmatized'].apply(remove_stopwords)"
      ],
      "metadata": {
        "id": "wWR2_9n6mazD"
      },
      "execution_count": 44,
      "outputs": []
    },
    {
      "cell_type": "code",
      "source": [
        "# remove numbers\n",
        "headphone_df.loc[:, 'review_lemmatized'] = headphone_df['review_lemmatized'].apply(remove_num)"
      ],
      "metadata": {
        "id": "f-8uYfgwmfkB"
      },
      "execution_count": 45,
      "outputs": []
    },
    {
      "cell_type": "code",
      "source": [
        "print(headphone_df['review_body'].sample(n=3, random_state = 0),'\\n')\n",
        "print(headphone_df['review_no_stopwords'].sample(n=3, random_state = 0),'\\n')\n",
        "print(headphone_df['review_lemmatized'].sample(n=3, random_state = 0),'\\n') "
      ],
      "metadata": {
        "colab": {
          "base_uri": "https://localhost:8080/"
        },
        "id": "MiILZ-cTmjwf",
        "outputId": "408a6d5b-97a4-4a7c-e223-5c4f0a45751c"
      },
      "execution_count": 46,
      "outputs": [
        {
          "output_type": "stream",
          "name": "stdout",
          "text": [
            "11911    I use these to listen to TV at night and work perfect. They stay in my ears where the pods did not.\n",
            "20044    The sound is ok but at least they stay in my ears which is more than can be said for most ear buds.\n",
            "10425    perfect                                                                                            \n",
            "Name: review_body, dtype: object \n",
            "\n",
            "11911    use listen tv night work perfect stay ears pods\n",
            "20044    sound ok least stay ears said ear buds         \n",
            "10425    perfect                                        \n",
            "Name: review_no_stopwords, dtype: object \n",
            "\n",
            "11911    use listen tv night work perfect stay ear pod\n",
            "20044    sound ok least stay ear say ear bud          \n",
            "10425    perfect                                      \n",
            "Name: review_lemmatized, dtype: object \n",
            "\n"
          ]
        }
      ]
    },
    {
      "cell_type": "code",
      "source": [
        "# PorterStemmer deals with cases like TVs, but produce incomplete workds like instal\n",
        "from nltk.stem import PorterStemmer\n",
        "porter = PorterStemmer()\n",
        "print(porter.stem('installation'))\n",
        "print(porter.stem('tvs'))"
      ],
      "metadata": {
        "colab": {
          "base_uri": "https://localhost:8080/"
        },
        "id": "Gzujr-LZnjAB",
        "outputId": "e16d4261-f4b8-4e9e-f621-ab6948813816"
      },
      "execution_count": 47,
      "outputs": [
        {
          "output_type": "stream",
          "name": "stdout",
          "text": [
            "instal\n",
            "tv\n"
          ]
        }
      ]
    },
    {
      "cell_type": "code",
      "source": [
        "freq_words(headphone_df['review_lemmatized'])"
      ],
      "metadata": {
        "colab": {
          "base_uri": "https://localhost:8080/",
          "height": 334
        },
        "id": "8DSmuUeIn10T",
        "outputId": "3043fa94-bd76-4b7b-cc59-422e8afa25d7"
      },
      "execution_count": 48,
      "outputs": [
        {
          "output_type": "display_data",
          "data": {
            "text/plain": [
              "<Figure size 1440x360 with 1 Axes>"
            ],
            "image/png": "[encoded data removed]"
          },
          "metadata": {
            "needs_background": "light"
          }
        }
      ]
    },
    {
      "cell_type": "code",
      "source": [
        "headphone_df.columns"
      ],
      "metadata": {
        "colab": {
          "base_uri": "https://localhost:8080/"
        },
        "id": "06KTSdYMoArh",
        "outputId": "74f4a803-bc91-4556-dded-b088f8abe151"
      },
      "execution_count": 49,
      "outputs": [
        {
          "output_type": "execute_result",
          "data": {
            "text/plain": [
              "Index(['product_id', 'product_tite', 'star_rating', 'review_headline',\n",
              "       'review_body', 'review_date', 'review_no_html', 'review_no_contraction',\n",
              "       'review_no_punc', 'review_no_stopwords', 'review_lemmatized'],\n",
              "      dtype='object')"
            ]
          },
          "metadata": {},
          "execution_count": 49
        }
      ]
    },
    {
      "cell_type": "code",
      "source": [
        "headphone_df.head()"
      ],
      "metadata": {
        "id": "qv3SvJoioNQ2",
        "outputId": "9064e61f-9de2-4961-9798-df0d65f10485",
        "colab": {
          "base_uri": "https://localhost:8080/",
          "height": 1000
        }
      },
      "execution_count": 50,
      "outputs": [
        {
          "output_type": "execute_result",
          "data": {
            "text/plain": [
              "   product_id                               product_tite  star_rating  \\\n",
              "0  B003EM6AQE  Panasonic ErgoFit In-Ear Earbud Headphone  5             \n",
              "1  B003EM8008  Panasonic ErgoFit In-Ear Earbud Headphone  5             \n",
              "2  B003EM6AOG  Panasonic ErgoFit In-Ear Earbud Headphone  5             \n",
              "3  B00E4LGVUO  Panasonic ErgoFit In-Ear Earbud Headphone  5             \n",
              "4  B003EM8008  Panasonic ErgoFit In-Ear Earbud Headphone  5             \n",
              "\n",
              "             review_headline  \\\n",
              "0  Great In-Ear Headphones!    \n",
              "1  Good quality head phones!   \n",
              "2  Not bad at all!             \n",
              "3  Five Stars                  \n",
              "4  I love these!               \n",
              "\n",
              "                                                                                                                                                                                                                                                                                                                                                                             review_body  \\\n",
              "0  I LOVE THESE HEADPHONES! I am totally satisfied with the sound and the fact that they stay in my ears! They are great...and I love the color of course. :)                                                                                                                                                                                                                              \n",
              "1  Probably the best earphones ever. Better than the Apple ones, I just wished that it had a mic on it, but these will last you a long time. Just ordered my second pair (since my first one got stolen) I had these for about 5 months and it still was in good condition before someone took it. Definitely would recommend and continue to repurchase these. Also, fast shipping too.   \n",
              "2  Great headphones, I mean they aren't going to blow your mind or anything, but they really work perfectly for the price you pay and for what they are .. these work so nicely for me when I'm trying to do some work and need outside sounds blocked out and I just want to hear the video I'm watching or the music I'm listening to.                                                   \n",
              "3  I love them for their price and quality.                                                                                                                                                                                                                                                                                                                                                \n",
              "4  I love these earphones! They're very good for the price which is cheap.                                                                                                                                                                                                                                                                                                                 \n",
              "\n",
              "  review_date  \\\n",
              "0  2015-08-31   \n",
              "1  2015-08-31   \n",
              "2  2015-08-31   \n",
              "3  2015-08-31   \n",
              "4  2015-08-31   \n",
              "\n",
              "                                                                                                                                                                                                                                                                                                                                                                          review_no_html  \\\n",
              "0  I LOVE THESE HEADPHONES! I am totally satisfied with the sound and the fact that they stay in my ears! They are great...and I love the color of course. :)                                                                                                                                                                                                                              \n",
              "1  Probably the best earphones ever. Better than the Apple ones, I just wished that it had a mic on it, but these will last you a long time. Just ordered my second pair (since my first one got stolen) I had these for about 5 months and it still was in good condition before someone took it. Definitely would recommend and continue to repurchase these. Also, fast shipping too.   \n",
              "2  Great headphones, I mean they aren't going to blow your mind or anything, but they really work perfectly for the price you pay and for what they are .. these work so nicely for me when I'm trying to do some work and need outside sounds blocked out and I just want to hear the video I'm watching or the music I'm listening to.                                                   \n",
              "3  I love them for their price and quality.                                                                                                                                                                                                                                                                                                                                                \n",
              "4  I love these earphones! They're very good for the price which is cheap.                                                                                                                                                                                                                                                                                                                 \n",
              "\n",
              "                                                                                                                                                                                                                                                                                                                                                                   review_no_contraction  \\\n",
              "0  I LOVE THESE HEADPHONES! I am totally satisfied with the sound and the fact that they stay in my ears! They are great...and I love the color of course. :)                                                                                                                                                                                                                              \n",
              "1  Probably the best earphones ever. Better than the Apple ones, I just wished that it had a mic on it, but these will last you a long time. Just ordered my second pair (since my first one got stolen) I had these for about 5 months and it still was in good condition before someone took it. Definitely would recommend and continue to repurchase these. Also, fast shipping too.   \n",
              "2  Great headphones, I mean they are not going to blow your mind or anything, but they really work perfectly for the price you pay and for what they are .. these work so nicely for me when I am trying to do some work and need outside sounds blocked out and I just want to hear the video I am watching or the music I am listening to.                                               \n",
              "3  I love them for their price and quality.                                                                                                                                                                                                                                                                                                                                                \n",
              "4  I love these earphones! They are very good for the price which is cheap.                                                                                                                                                                                                                                                                                                                \n",
              "\n",
              "                                                                                                                                                                                                                                                                                                                                                                review_no_punc  \\\n",
              "0  I LOVE THESE HEADPHONES I am totally satisfied with the sound and the fact that they stay in my ears They are greatand I love the color of course                                                                                                                                                                                                                             \n",
              "1  Probably the best earphones ever Better than the Apple ones I just wished that it had a mic on it but these will last you a long time Just ordered my second pair since my first one got stolen I had these for about 5 months and it still was in good condition before someone took it Definitely would recommend and continue to repurchase these Also fast shipping too   \n",
              "2  Great headphones I mean they are not going to blow your mind or anything but they really work perfectly for the price you pay and for what they are  these work so nicely for me when I am trying to do some work and need outside sounds blocked out and I just want to hear the video I am watching or the music I am listening to                                          \n",
              "3  I love them for their price and quality                                                                                                                                                                                                                                                                                                                                       \n",
              "4  I love these earphones They are very good for the price which is cheap                                                                                                                                                                                                                                                                                                        \n",
              "\n",
              "                                                                                                                                                                                                                    review_no_stopwords  \\\n",
              "0  love totally satisfied sound fact stay ears greatand love color course                                                                                                                                                                 \n",
              "1  probably best earphones ever better apple ones wished mic last long time ordered second pair since first one got stolen 5 months still good condition someone took definitely would recommend continue repurchase also fast shipping   \n",
              "2  great mean going blow mind anything really work perfectly price pay work nicely trying work need outside sounds blocked want hear video watching music listening                                                                       \n",
              "3  love price quality                                                                                                                                                                                                                     \n",
              "4  love earphones good price cheap                                                                                                                                                                                                        \n",
              "\n",
              "                                                                                                                                                                                                           review_lemmatized  \n",
              "0  love totally satisfied sound fact stay ear greatand love color course                                                                                                                                                      \n",
              "1  probably good earphone ever well apple one wish mic last long time order second pair since first one get steal  month still good condition someone take definitely would recommend continue repurchase also fast shipping  \n",
              "2  great mean go blow mind anything really work perfectly price pay work nicely try work need outside sound block want hear video watch music listening                                                                       \n",
              "3  love price quality                                                                                                                                                                                                         \n",
              "4  love earphone good price cheap                                                                                                                                                                                             "
            ],
            "text/html": [
              "\n",
              "  <div id=\"df-be0a7ac6-3e0c-4fca-8397-aa8dd08ad3c9\">\n",
              "    <div class=\"colab-df-container\">\n",
              "      <div>\n",
              "<style scoped>\n",
              "    .dataframe tbody tr th:only-of-type {\n",
              "        vertical-align: middle;\n",
              "    }\n",
              "\n",
              "    .dataframe tbody tr th {\n",
              "        vertical-align: top;\n",
              "    }\n",
              "\n",
              "    .dataframe thead th {\n",
              "        text-align: right;\n",
              "    }\n",
              "</style>\n",
              "<table border=\"1\" class=\"dataframe\">\n",
              "  <thead>\n",
              "    <tr style=\"text-align: right;\">\n",
              "      <th></th>\n",
              "      <th>product_id</th>\n",
              "      <th>product_tite</th>\n",
              "      <th>star_rating</th>\n",
              "      <th>review_headline</th>\n",
              "      <th>review_body</th>\n",
              "      <th>review_date</th>\n",
              "      <th>review_no_html</th>\n",
              "      <th>review_no_contraction</th>\n",
              "      <th>review_no_punc</th>\n",
              "      <th>review_no_stopwords</th>\n",
              "      <th>review_lemmatized</th>\n",
              "    </tr>\n",
              "  </thead>\n",
              "  <tbody>\n",
              "    <tr>\n",
              "      <th>0</th>\n",
              "      <td>B003EM6AQE</td>\n",
              "      <td>Panasonic ErgoFit In-Ear Earbud Headphone</td>\n",
              "      <td>5</td>\n",
              "      <td>Great In-Ear Headphones!</td>\n",
              "      <td>I LOVE THESE HEADPHONES! I am totally satisfied with the sound and the fact that they stay in my ears! They are great...and I love the color of course. :)</td>\n",
              "      <td>2015-08-31</td>\n",
              "      <td>I LOVE THESE HEADPHONES! I am totally satisfied with the sound and the fact that they stay in my ears! They are great...and I love the color of course. :)</td>\n",
              "      <td>I LOVE THESE HEADPHONES! I am totally satisfied with the sound and the fact that they stay in my ears! They are great...and I love the color of course. :)</td>\n",
              "      <td>I LOVE THESE HEADPHONES I am totally satisfied with the sound and the fact that they stay in my ears They are greatand I love the color of course</td>\n",
              "      <td>love totally satisfied sound fact stay ears greatand love color course</td>\n",
              "      <td>love totally satisfied sound fact stay ear greatand love color course</td>\n",
              "    </tr>\n",
              "    <tr>\n",
              "      <th>1</th>\n",
              "      <td>B003EM8008</td>\n",
              "      <td>Panasonic ErgoFit In-Ear Earbud Headphone</td>\n",
              "      <td>5</td>\n",
              "      <td>Good quality head phones!</td>\n",
              "      <td>Probably the best earphones ever. Better than the Apple ones, I just wished that it had a mic on it, but these will last you a long time. Just ordered my second pair (since my first one got stolen) I had these for about 5 months and it still was in good condition before someone took it. Definitely would recommend and continue to repurchase these. Also, fast shipping too.</td>\n",
              "      <td>2015-08-31</td>\n",
              "      <td>Probably the best earphones ever. Better than the Apple ones, I just wished that it had a mic on it, but these will last you a long time. Just ordered my second pair (since my first one got stolen) I had these for about 5 months and it still was in good condition before someone took it. Definitely would recommend and continue to repurchase these. Also, fast shipping too.</td>\n",
              "      <td>Probably the best earphones ever. Better than the Apple ones, I just wished that it had a mic on it, but these will last you a long time. Just ordered my second pair (since my first one got stolen) I had these for about 5 months and it still was in good condition before someone took it. Definitely would recommend and continue to repurchase these. Also, fast shipping too.</td>\n",
              "      <td>Probably the best earphones ever Better than the Apple ones I just wished that it had a mic on it but these will last you a long time Just ordered my second pair since my first one got stolen I had these for about 5 months and it still was in good condition before someone took it Definitely would recommend and continue to repurchase these Also fast shipping too</td>\n",
              "      <td>probably best earphones ever better apple ones wished mic last long time ordered second pair since first one got stolen 5 months still good condition someone took definitely would recommend continue repurchase also fast shipping</td>\n",
              "      <td>probably good earphone ever well apple one wish mic last long time order second pair since first one get steal  month still good condition someone take definitely would recommend continue repurchase also fast shipping</td>\n",
              "    </tr>\n",
              "    <tr>\n",
              "      <th>2</th>\n",
              "      <td>B003EM6AOG</td>\n",
              "      <td>Panasonic ErgoFit In-Ear Earbud Headphone</td>\n",
              "      <td>5</td>\n",
              "      <td>Not bad at all!</td>\n",
              "      <td>Great headphones, I mean they aren't going to blow your mind or anything, but they really work perfectly for the price you pay and for what they are .. these work so nicely for me when I'm trying to do some work and need outside sounds blocked out and I just want to hear the video I'm watching or the music I'm listening to.</td>\n",
              "      <td>2015-08-31</td>\n",
              "      <td>Great headphones, I mean they aren't going to blow your mind or anything, but they really work perfectly for the price you pay and for what they are .. these work so nicely for me when I'm trying to do some work and need outside sounds blocked out and I just want to hear the video I'm watching or the music I'm listening to.</td>\n",
              "      <td>Great headphones, I mean they are not going to blow your mind or anything, but they really work perfectly for the price you pay and for what they are .. these work so nicely for me when I am trying to do some work and need outside sounds blocked out and I just want to hear the video I am watching or the music I am listening to.</td>\n",
              "      <td>Great headphones I mean they are not going to blow your mind or anything but they really work perfectly for the price you pay and for what they are  these work so nicely for me when I am trying to do some work and need outside sounds blocked out and I just want to hear the video I am watching or the music I am listening to</td>\n",
              "      <td>great mean going blow mind anything really work perfectly price pay work nicely trying work need outside sounds blocked want hear video watching music listening</td>\n",
              "      <td>great mean go blow mind anything really work perfectly price pay work nicely try work need outside sound block want hear video watch music listening</td>\n",
              "    </tr>\n",
              "    <tr>\n",
              "      <th>3</th>\n",
              "      <td>B00E4LGVUO</td>\n",
              "      <td>Panasonic ErgoFit In-Ear Earbud Headphone</td>\n",
              "      <td>5</td>\n",
              "      <td>Five Stars</td>\n",
              "      <td>I love them for their price and quality.</td>\n",
              "      <td>2015-08-31</td>\n",
              "      <td>I love them for their price and quality.</td>\n",
              "      <td>I love them for their price and quality.</td>\n",
              "      <td>I love them for their price and quality</td>\n",
              "      <td>love price quality</td>\n",
              "      <td>love price quality</td>\n",
              "    </tr>\n",
              "    <tr>\n",
              "      <th>4</th>\n",
              "      <td>B003EM8008</td>\n",
              "      <td>Panasonic ErgoFit In-Ear Earbud Headphone</td>\n",
              "      <td>5</td>\n",
              "      <td>I love these!</td>\n",
              "      <td>I love these earphones! They're very good for the price which is cheap.</td>\n",
              "      <td>2015-08-31</td>\n",
              "      <td>I love these earphones! They're very good for the price which is cheap.</td>\n",
              "      <td>I love these earphones! They are very good for the price which is cheap.</td>\n",
              "      <td>I love these earphones They are very good for the price which is cheap</td>\n",
              "      <td>love earphones good price cheap</td>\n",
              "      <td>love earphone good price cheap</td>\n",
              "    </tr>\n",
              "  </tbody>\n",
              "</table>\n",
              "</div>\n",
              "      <button class=\"colab-df-convert\" onclick=\"convertToInteractive('df-be0a7ac6-3e0c-4fca-8397-aa8dd08ad3c9')\"\n",
              "              title=\"Convert this dataframe to an interactive table.\"\n",
              "              style=\"display:none;\">\n",
              "        \n",
              "  <svg xmlns=\"http://www.w3.org/2000/svg\" height=\"24px\"viewBox=\"0 0 24 24\"\n",
              "       width=\"24px\">\n",
              "    <path d=\"M0 0h24v24H0V0z\" fill=\"none\"/>\n",
              "    <path d=\"M18.56 5.44l.94 2.06.94-2.06 2.06-.94-2.06-.94-.94-2.06-.94 2.06-2.06.94zm-11 1L8.5 8.5l.94-2.06 2.06-.94-2.06-.94L8.5 2.5l-.94 2.06-2.06.94zm10 10l.94 2.06.94-2.06 2.06-.94-2.06-.94-.94-2.06-.94 2.06-2.06.94z\"/><path d=\"M17.41 7.96l-1.37-1.37c-.4-.4-.92-.59-1.43-.59-.52 0-1.04.2-1.43.59L10.3 9.45l-7.72 7.72c-.78.78-.78 2.05 0 2.83L4 21.41c.39.39.9.59 1.41.59.51 0 1.02-.2 1.41-.59l7.78-7.78 2.81-2.81c.8-.78.8-2.07 0-2.86zM5.41 20L4 18.59l7.72-7.72 1.47 1.35L5.41 20z\"/>\n",
              "  </svg>\n",
              "      </button>\n",
              "      \n",
              "  <style>\n",
              "    .colab-df-container {\n",
              "      display:flex;\n",
              "      flex-wrap:wrap;\n",
              "      gap: 12px;\n",
              "    }\n",
              "\n",
              "    .colab-df-convert {\n",
              "      background-color: #E8F0FE;\n",
              "      border: none;\n",
              "      border-radius: 50%;\n",
              "      cursor: pointer;\n",
              "      display: none;\n",
              "      fill: #1967D2;\n",
              "      height: 32px;\n",
              "      padding: 0 0 0 0;\n",
              "      width: 32px;\n",
              "    }\n",
              "\n",
              "    .colab-df-convert:hover {\n",
              "      background-color: #E2EBFA;\n",
              "      box-shadow: 0px 1px 2px rgba(60, 64, 67, 0.3), 0px 1px 3px 1px rgba(60, 64, 67, 0.15);\n",
              "      fill: #174EA6;\n",
              "    }\n",
              "\n",
              "    [theme=dark] .colab-df-convert {\n",
              "      background-color: #3B4455;\n",
              "      fill: #D2E3FC;\n",
              "    }\n",
              "\n",
              "    [theme=dark] .colab-df-convert:hover {\n",
              "      background-color: #434B5C;\n",
              "      box-shadow: 0px 1px 3px 1px rgba(0, 0, 0, 0.15);\n",
              "      filter: drop-shadow(0px 1px 2px rgba(0, 0, 0, 0.3));\n",
              "      fill: #FFFFFF;\n",
              "    }\n",
              "  </style>\n",
              "\n",
              "      <script>\n",
              "        const buttonEl =\n",
              "          document.querySelector('#df-be0a7ac6-3e0c-4fca-8397-aa8dd08ad3c9 button.colab-df-convert');\n",
              "        buttonEl.style.display =\n",
              "          google.colab.kernel.accessAllowed ? 'block' : 'none';\n",
              "\n",
              "        async function convertToInteractive(key) {\n",
              "          const element = document.querySelector('#df-be0a7ac6-3e0c-4fca-8397-aa8dd08ad3c9');\n",
              "          const dataTable =\n",
              "            await google.colab.kernel.invokeFunction('convertToInteractive',\n",
              "                                                     [key], {});\n",
              "          if (!dataTable) return;\n",
              "\n",
              "          const docLinkHtml = 'Like what you see? Visit the ' +\n",
              "            '<a target=\"_blank\" href=https://colab.research.google.com/notebooks/data_table.ipynb>data table notebook</a>'\n",
              "            + ' to learn more about interactive tables.';\n",
              "          element.innerHTML = '';\n",
              "          dataTable['output_type'] = 'display_data';\n",
              "          await google.colab.output.renderOutput(dataTable, element);\n",
              "          const docLink = document.createElement('div');\n",
              "          docLink.innerHTML = docLinkHtml;\n",
              "          element.appendChild(docLink);\n",
              "        }\n",
              "      </script>\n",
              "    </div>\n",
              "  </div>\n",
              "  "
            ]
          },
          "metadata": {},
          "execution_count": 50
        }
      ]
    },
    {
      "cell_type": "code",
      "source": [
        "headphone_df = headphone_df.drop(['review_no_html','review_no_contraction','review_no_punc','review_no_stopwords'],axis = 1)"
      ],
      "metadata": {
        "id": "27trQqJOrglU"
      },
      "execution_count": 51,
      "outputs": []
    },
    {
      "cell_type": "code",
      "source": [
        "headphone_df.to_csv('Headphone_df_processed_nlp.csv')"
      ],
      "metadata": {
        "id": "VSj0POEOoPHz"
      },
      "execution_count": 52,
      "outputs": []
    },
    {
      "cell_type": "code",
      "source": [
        ""
      ],
      "metadata": {
        "id": "fmS9qO_to0rj"
      },
      "execution_count": 52,
      "outputs": []
    }
  ]
}